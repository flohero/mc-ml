{
 "cells": [
  {
   "cell_type": "markdown",
   "source": [
    "# Server"
   ],
   "metadata": {
    "collapsed": false
   }
  },
  {
   "cell_type": "code",
   "execution_count": 1,
   "metadata": {
    "collapsed": true
   },
   "outputs": [
    {
     "name": "stderr",
     "output_type": "stream",
     "text": [
      "\u001B[31m\u001B[1mWARNING: This is a development server. Do not use it in a production deployment. Use a production WSGI server instead.\u001B[0m\n",
      " * Running on http://127.0.0.1:5000\n",
      "\u001B[33mPress CTRL+C to quit\u001B[0m\n",
      "127.0.0.1 - - [06/Jan/2023 17:11:35] \"GET / HTTP/1.1\" 200 -\n",
      "127.0.0.1 - - [06/Jan/2023 17:11:36] \"\u001B[32mGET /login HTTP/1.1\u001B[0m\" 307 -\n"
     ]
    }
   ],
   "source": [
    "import tekore as tk\n",
    "from dotenv import load_dotenv\n",
    "\n",
    "import server\n",
    "\n",
    "load_dotenv()\n",
    "\n",
    "conf = tk.config_from_environment()\n",
    "cred = tk.Credentials(*conf)\n",
    "spotify = tk.Spotify()\n",
    "host = '127.0.0.1'\n",
    "port = 5000\n",
    "\n",
    "# Multiprocessing\n",
    "app = server.SingleUseAuthServer(host, port, spotify, cred)\n",
    "token = app.spawn_single_use_server()\n",
    "spotify.token = token"
   ]
  },
  {
   "cell_type": "markdown",
   "source": [
    "# Spotify API"
   ],
   "metadata": {
    "collapsed": false
   }
  },
  {
   "cell_type": "code",
   "execution_count": 2,
   "outputs": [],
   "source": [
    "spotify.token = cred.refresh(spotify.token)"
   ],
   "metadata": {
    "collapsed": false
   }
  },
  {
   "cell_type": "code",
   "execution_count": 3,
   "outputs": [
    {
     "name": "stdout",
     "output_type": "stream",
     "text": [
      "Infinity\n",
      "In Waves\n",
      "Insecure\n",
      "I Am Above\n",
      "In the Snow\n",
      "Pain Remains I: Dancing Like Flames\n",
      "Fick ihn doch\n",
      "Get It Crackin - Sefa Remix\n",
      "Das ist alles von der Kunstfreiheit gedeckt\n",
      "I Wanna Boi\n",
      "Let It Go\n",
      "Where Is My Mind? - Remastered\n",
      "I Gotta Feeling\n",
      "I'm Nuclear\n",
      "Dies Irae feat. Black Prez\n",
      "Flowers in your hair\n",
      "Let It Go\n",
      "I'm Good (Blue)\n",
      "In the End\n",
      "I'm Still Standing\n",
      "In Da Club\n",
      "From the Heart (I Hate You)\n",
      "I Ain't Worried\n",
      "Zukunft Pink (feat. Inéz)\n",
      "In der Weihnachtsbäckerei\n",
      "All I Want for Christmas Is You\n",
      "Infinity\n",
      "I Wanna Be Yours\n",
      "Happy Xmas (War Is Over) - Remastered 2010\n",
      "Ich hass dich\n",
      "Snowman\n",
      "I'll Be Waiting\n",
      "It's Beginning to Look a Lot like Christmas\n",
      "I Believe\n",
      "How Do I Say Goodbye\n",
      "Wonderful Christmastime - Edited Version / Remastered 2011\n",
      "It's the Most Wonderful Time of the Year\n",
      "It's Beginning to Look a Lot Like Christmas (with Mitchell Ayres & His Orchestra)\n",
      "Let It Snow! Let It Snow! Let It Snow!\n",
      "It's Beginning to Look a Lot like Christmas\n",
      "Sava i Dunav\n",
      "Call It Love\n",
      "In Your Eyes\n",
      "Thank God It's Christmas - Non-Album Single\n",
      "I Was Never There\n",
      "Do They Know It's Christmas? - 1984 Version\n",
      "I Feel It Coming\n",
      "Under The Influence\n",
      "Underneath the Tree\n",
      "I'll Be Home\n"
     ]
    }
   ],
   "source": [
    "from project.random_track import RandomTrack\n",
    "\n",
    "rndTrack = RandomTrack(spotify, cred)\n",
    "tracks = rndTrack.random_tracks()\n",
    "for track in tracks:\n",
    "    print(track.name)"
   ],
   "metadata": {
    "collapsed": false
   }
  },
  {
   "cell_type": "code",
   "execution_count": 4,
   "outputs": [
    {
     "data": {
      "text/plain": "[FullArtist with fields:\n   external_urls = {'spotify'}\n   followers = Followers(href, total)\n   genres = [3 x str]\n   href = 'https://api.spotify.com/v1/artists/0caJEGgVuXuSHhhrMCmlkI'\n   id = '0caJEGgVuXuSHhhrMCmlkI'\n   images = [3 x Image(height, url, width)]\n   name = 'Sefa'\n   popularity = 60\n   type = 'artist'\n   uri = 'spotify:artist:0caJEGgVuXuSHhhrMCmlkI',\n FullArtist with fields:\n   external_urls = {'spotify'}\n   followers = Followers(href, total)\n   genres = [3 x str]\n   href = 'https://api.spotify.com/v1/artists/6L7a6wPGpvLtTwOsMLnF1z'\n   id = '6L7a6wPGpvLtTwOsMLnF1z'\n   images = [3 x Image(height, url, width)]\n   name = 'D-Block & S-te-Fan'\n   popularity = 61\n   type = 'artist'\n   uri = 'spotify:artist:6L7a6wPGpvLtTwOsMLnF1z',\n FullArtist with fields:\n   external_urls = {'spotify'}\n   followers = Followers(href, total)\n   genres = [6 x str]\n   href = 'https://api.spotify.com/v1/artists/278ZYwGhdK6QTzE3MFePnP'\n   id = '278ZYwGhdK6QTzE3MFePnP'\n   images = [3 x Image(height, url, width)]\n   name = 'Trivium'\n   popularity = 63\n   type = 'artist'\n   uri = 'spotify:artist:278ZYwGhdK6QTzE3MFePnP',\n FullArtist with fields:\n   external_urls = {'spotify'}\n   followers = Followers(href, total)\n   genres = [0 x str]\n   href = 'https://api.spotify.com/v1/artists/7i7knDRybyk0pKGZs4TrA0'\n   id = '7i7knDRybyk0pKGZs4TrA0'\n   images = [3 x Image(height, url, width)]\n   name = 'The Whistlers'\n   popularity = 45\n   type = 'artist'\n   uri = 'spotify:artist:7i7knDRybyk0pKGZs4TrA0',\n FullArtist with fields:\n   external_urls = {'spotify'}\n   followers = Followers(href, total)\n   genres = [8 x str]\n   href = 'https://api.spotify.com/v1/artists/57ylwQTnFnIhJh4nu4rxCs'\n   id = '57ylwQTnFnIhJh4nu4rxCs'\n   images = [3 x Image(height, url, width)]\n   name = 'In Flames'\n   popularity = 65\n   type = 'artist'\n   uri = 'spotify:artist:57ylwQTnFnIhJh4nu4rxCs',\n FullArtist with fields:\n   external_urls = {'spotify'}\n   followers = Followers(href, total)\n   genres = [6 x str]\n   href = 'https://api.spotify.com/v1/artists/3Yr3yzpgJUMfM8LVvBezXj'\n   id = '3Yr3yzpgJUMfM8LVvBezXj'\n   images = [3 x Image(height, url, width)]\n   name = 'Elderwind'\n   popularity = 21\n   type = 'artist'\n   uri = 'spotify:artist:3Yr3yzpgJUMfM8LVvBezXj',\n FullArtist with fields:\n   external_urls = {'spotify'}\n   followers = Followers(href, total)\n   genres = [2 x str]\n   href = 'https://api.spotify.com/v1/artists/6vXYoy8ouRVib302zxaxFF'\n   id = '6vXYoy8ouRVib302zxaxFF'\n   images = [3 x Image(height, url, width)]\n   name = 'Lorna Shore'\n   popularity = 62\n   type = 'artist'\n   uri = 'spotify:artist:6vXYoy8ouRVib302zxaxFF',\n FullArtist with fields:\n   external_urls = {'spotify'}\n   followers = Followers(href, total)\n   genres = [1 x str]\n   href = 'https://api.spotify.com/v1/artists/0r0R5nIjDY04TfxRM10Bcb'\n   id = '0r0R5nIjDY04TfxRM10Bcb'\n   images = [3 x Image(height, url, width)]\n   name = 'Alligatoah'\n   popularity = 66\n   type = 'artist'\n   uri = 'spotify:artist:0r0R5nIjDY04TfxRM10Bcb',\n FullArtist with fields:\n   external_urls = {'spotify'}\n   followers = Followers(href, total)\n   genres = [4 x str]\n   href = 'https://api.spotify.com/v1/artists/2kK1cYRoYo24RzsHADtD0E'\n   id = '2kK1cYRoYo24RzsHADtD0E'\n   images = [3 x Image(height, url, width)]\n   name = 'Re-Style'\n   popularity = 50\n   type = 'artist'\n   uri = 'spotify:artist:2kK1cYRoYo24RzsHADtD0E',\n FullArtist with fields:\n   external_urls = {'spotify'}\n   followers = Followers(href, total)\n   genres = [3 x str]\n   href = 'https://api.spotify.com/v1/artists/0caJEGgVuXuSHhhrMCmlkI'\n   id = '0caJEGgVuXuSHhhrMCmlkI'\n   images = [3 x Image(height, url, width)]\n   name = 'Sefa'\n   popularity = 60\n   type = 'artist'\n   uri = 'spotify:artist:0caJEGgVuXuSHhhrMCmlkI',\n FullArtist with fields:\n   external_urls = {'spotify'}\n   followers = Followers(href, total)\n   genres = [3 x str]\n   href = 'https://api.spotify.com/v1/artists/2jXb8AWz82Sn3RRGOaia7a'\n   id = '2jXb8AWz82Sn3RRGOaia7a'\n   images = [3 x Image(height, url, width)]\n   name = 'Danger Dan'\n   popularity = 57\n   type = 'artist'\n   uri = 'spotify:artist:2jXb8AWz82Sn3RRGOaia7a',\n FullArtist with fields:\n   external_urls = {'spotify'}\n   followers = Followers(href, total)\n   genres = [1 x str]\n   href = 'https://api.spotify.com/v1/artists/5712BvYQ5m5Wcah576OFH4'\n   id = '5712BvYQ5m5Wcah576OFH4'\n   images = [3 x Image(height, url, width)]\n   name = 'PWR BTTM'\n   popularity = 34\n   type = 'artist'\n   uri = 'spotify:artist:5712BvYQ5m5Wcah576OFH4',\n FullArtist with fields:\n   external_urls = {'spotify'}\n   followers = Followers(href, total)\n   genres = [4 x str]\n   href = 'https://api.spotify.com/v1/artists/4tEWLl4loWFLgs25trNnro'\n   id = '4tEWLl4loWFLgs25trNnro'\n   images = [3 x Image(height, url, width)]\n   name = 'Betraying The Martyrs'\n   popularity = 44\n   type = 'artist'\n   uri = 'spotify:artist:4tEWLl4loWFLgs25trNnro',\n FullArtist with fields:\n   external_urls = {'spotify'}\n   followers = Followers(href, total)\n   genres = [5 x str]\n   href = 'https://api.spotify.com/v1/artists/6zvul52xwTWzilBZl6BUbT'\n   id = '6zvul52xwTWzilBZl6BUbT'\n   images = [3 x Image(height, url, width)]\n   name = 'Pixies'\n   popularity = 72\n   type = 'artist'\n   uri = 'spotify:artist:6zvul52xwTWzilBZl6BUbT',\n FullArtist with fields:\n   external_urls = {'spotify'}\n   followers = Followers(href, total)\n   genres = [3 x str]\n   href = 'https://api.spotify.com/v1/artists/1yxSLGMDHlW21z4YXirZDS'\n   id = '1yxSLGMDHlW21z4YXirZDS'\n   images = [3 x Image(height, url, width)]\n   name = 'Black Eyed Peas'\n   popularity = 82\n   type = 'artist'\n   uri = 'spotify:artist:1yxSLGMDHlW21z4YXirZDS',\n FullArtist with fields:\n   external_urls = {'spotify'}\n   followers = Followers(href, total)\n   genres = [5 x str]\n   href = 'https://api.spotify.com/v1/artists/5yirHkilaq4YSjO9BY6oy3'\n   id = '5yirHkilaq4YSjO9BY6oy3'\n   images = [3 x Image(height, url, width)]\n   name = 'N-Vitral'\n   popularity = 53\n   type = 'artist'\n   uri = 'spotify:artist:5yirHkilaq4YSjO9BY6oy3',\n FullArtist with fields:\n   external_urls = {'spotify'}\n   followers = Followers(href, total)\n   genres = [0 x str]\n   href = 'https://api.spotify.com/v1/artists/4Ub0mdQEa3RhAfwWgVXp46'\n   id = '4Ub0mdQEa3RhAfwWgVXp46'\n   images = [3 x Image(height, url, width)]\n   name = 'Sovereign King'\n   popularity = 36\n   type = 'artist'\n   uri = 'spotify:artist:4Ub0mdQEa3RhAfwWgVXp46',\n FullArtist with fields:\n   external_urls = {'spotify'}\n   followers = Followers(href, total)\n   genres = [0 x str]\n   href = 'https://api.spotify.com/v1/artists/4xhbLq3ngCmSNOIoqyS3AG'\n   id = '4xhbLq3ngCmSNOIoqyS3AG'\n   images = [3 x Image(height, url, width)]\n   name = 'Last Word'\n   popularity = 40\n   type = 'artist'\n   uri = 'spotify:artist:4xhbLq3ngCmSNOIoqyS3AG',\n FullArtist with fields:\n   external_urls = {'spotify'}\n   followers = Followers(href, total)\n   genres = [1 x str]\n   href = 'https://api.spotify.com/v1/artists/1fd3fmwlhrDl2U5wbbPQYN'\n   id = '1fd3fmwlhrDl2U5wbbPQYN'\n   images = [3 x Image(height, url, width)]\n   name = 'Apashe'\n   popularity = 61\n   type = 'artist'\n   uri = 'spotify:artist:1fd3fmwlhrDl2U5wbbPQYN',\n FullArtist with fields:\n   external_urls = {'spotify'}\n   followers = Followers(href, total)\n   genres = [0 x str]\n   href = 'https://api.spotify.com/v1/artists/3kGJGwSmyImKKigpSkKnTz'\n   id = '3kGJGwSmyImKKigpSkKnTz'\n   images = [3 x Image(height, url, width)]\n   name = 'Black Prez'\n   popularity = 40\n   type = 'artist'\n   uri = 'spotify:artist:3kGJGwSmyImKKigpSkKnTz',\n FullArtist with fields:\n   external_urls = {'spotify'}\n   followers = Followers(href, total)\n   genres = [1 x str]\n   href = 'https://api.spotify.com/v1/artists/20bAxKr0YrCvceZeLqs37e'\n   id = '20bAxKr0YrCvceZeLqs37e'\n   images = [3 x Image(height, url, width)]\n   name = 'Nomy'\n   popularity = 53\n   type = 'artist'\n   uri = 'spotify:artist:20bAxKr0YrCvceZeLqs37e',\n FullArtist with fields:\n   external_urls = {'spotify'}\n   followers = Followers(href, total)\n   genres = [4 x str]\n   href = 'https://api.spotify.com/v1/artists/4tEWLl4loWFLgs25trNnro'\n   id = '4tEWLl4loWFLgs25trNnro'\n   images = [3 x Image(height, url, width)]\n   name = 'Betraying The Martyrs'\n   popularity = 44\n   type = 'artist'\n   uri = 'spotify:artist:4tEWLl4loWFLgs25trNnro',\n FullArtist with fields:\n   external_urls = {'spotify'}\n   followers = Followers(href, total)\n   genres = [5 x str]\n   href = 'https://api.spotify.com/v1/artists/1Cs0zKBU1kc0i8ypK3B9ai'\n   id = '1Cs0zKBU1kc0i8ypK3B9ai'\n   images = [3 x Image(height, url, width)]\n   name = 'David Guetta'\n   popularity = 90\n   type = 'artist'\n   uri = 'spotify:artist:1Cs0zKBU1kc0i8ypK3B9ai',\n FullArtist with fields:\n   external_urls = {'spotify'}\n   followers = Followers(href, total)\n   genres = [4 x str]\n   href = 'https://api.spotify.com/v1/artists/64M6ah0SkkRsnPGtGiRAbb'\n   id = '64M6ah0SkkRsnPGtGiRAbb'\n   images = [3 x Image(height, url, width)]\n   name = 'Bebe Rexha'\n   popularity = 84\n   type = 'artist'\n   uri = 'spotify:artist:64M6ah0SkkRsnPGtGiRAbb',\n FullArtist with fields:\n   external_urls = {'spotify'}\n   followers = Followers(href, total)\n   genres = [4 x str]\n   href = 'https://api.spotify.com/v1/artists/6XyY86QOPPrYVGvF9ch6wz'\n   id = '6XyY86QOPPrYVGvF9ch6wz'\n   images = [3 x Image(height, url, width)]\n   name = 'Linkin Park'\n   popularity = 84\n   type = 'artist'\n   uri = 'spotify:artist:6XyY86QOPPrYVGvF9ch6wz',\n FullArtist with fields:\n   external_urls = {'spotify'}\n   followers = Followers(href, total)\n   genres = [3 x str]\n   href = 'https://api.spotify.com/v1/artists/3PhoLpVuITZKcymswpck5b'\n   id = '3PhoLpVuITZKcymswpck5b'\n   images = [3 x Image(height, url, width)]\n   name = 'Elton John'\n   popularity = 86\n   type = 'artist'\n   uri = 'spotify:artist:3PhoLpVuITZKcymswpck5b',\n FullArtist with fields:\n   external_urls = {'spotify'}\n   followers = Followers(href, total)\n   genres = [6 x str]\n   href = 'https://api.spotify.com/v1/artists/3q7HBObVc0L8jNeTe5Gofh'\n   id = '3q7HBObVc0L8jNeTe5Gofh'\n   images = [4 x Image(height, url, width)]\n   name = '50 Cent'\n   popularity = 83\n   type = 'artist'\n   uri = 'spotify:artist:3q7HBObVc0L8jNeTe5Gofh',\n FullArtist with fields:\n   external_urls = {'spotify'}\n   followers = Followers(href, total)\n   genres = [7 x str]\n   href = 'https://api.spotify.com/v1/artists/2kfVqdz3lJshqH9GUHhtMr'\n   id = '2kfVqdz3lJshqH9GUHhtMr'\n   images = [3 x Image(height, url, width)]\n   name = 'Psychostick'\n   popularity = 46\n   type = 'artist'\n   uri = 'spotify:artist:2kfVqdz3lJshqH9GUHhtMr',\n FullArtist with fields:\n   external_urls = {'spotify'}\n   followers = Followers(href, total)\n   genres = [2 x str]\n   href = 'https://api.spotify.com/v1/artists/5Pwc4xIPtQLFEnJriah9YJ'\n   id = '5Pwc4xIPtQLFEnJriah9YJ'\n   images = [3 x Image(height, url, width)]\n   name = 'OneRepublic'\n   popularity = 85\n   type = 'artist'\n   uri = 'spotify:artist:5Pwc4xIPtQLFEnJriah9YJ',\n FullArtist with fields:\n   external_urls = {'spotify'}\n   followers = Followers(href, total)\n   genres = [1 x str]\n   href = 'https://api.spotify.com/v1/artists/6rqlONGmPuP2wJVSfliLBI'\n   id = '6rqlONGmPuP2wJVSfliLBI'\n   images = [3 x Image(height, url, width)]\n   name = 'Peter Fox'\n   popularity = 69\n   type = 'artist'\n   uri = 'spotify:artist:6rqlONGmPuP2wJVSfliLBI',\n FullArtist with fields:\n   external_urls = {'spotify'}\n   followers = Followers(href, total)\n   genres = [0 x str]\n   href = 'https://api.spotify.com/v1/artists/6zBax4hSAI1BJYgwF61EP5'\n   id = '6zBax4hSAI1BJYgwF61EP5'\n   images = [3 x Image(height, url, width)]\n   name = 'Inéz'\n   popularity = 65\n   type = 'artist'\n   uri = 'spotify:artist:6zBax4hSAI1BJYgwF61EP5',\n FullArtist with fields:\n   external_urls = {'spotify'}\n   followers = Followers(href, total)\n   genres = [1 x str]\n   href = 'https://api.spotify.com/v1/artists/2qn4hIXsvRUyFoboMi31XB'\n   id = '2qn4hIXsvRUyFoboMi31XB'\n   images = [4 x Image(height, url, width)]\n   name = 'Rolf Zuckowski'\n   popularity = 70\n   type = 'artist'\n   uri = 'spotify:artist:2qn4hIXsvRUyFoboMi31XB',\n FullArtist with fields:\n   external_urls = {'spotify'}\n   followers = Followers(href, total)\n   genres = [2 x str]\n   href = 'https://api.spotify.com/v1/artists/4iHNK0tOyZPYnBU7nGAgpQ'\n   id = '4iHNK0tOyZPYnBU7nGAgpQ'\n   images = [3 x Image(height, url, width)]\n   name = 'Mariah Carey'\n   popularity = 87\n   type = 'artist'\n   uri = 'spotify:artist:4iHNK0tOyZPYnBU7nGAgpQ',\n FullArtist with fields:\n   external_urls = {'spotify'}\n   followers = Followers(href, total)\n   genres = [3 x str]\n   href = 'https://api.spotify.com/v1/artists/6QrQ7OrISRYIfS5mtacaw2'\n   id = '6QrQ7OrISRYIfS5mtacaw2'\n   images = [3 x Image(height, url, width)]\n   name = 'Jaymes Young'\n   popularity = 72\n   type = 'artist'\n   uri = 'spotify:artist:6QrQ7OrISRYIfS5mtacaw2',\n FullArtist with fields:\n   external_urls = {'spotify'}\n   followers = Followers(href, total)\n   genres = [5 x str]\n   href = 'https://api.spotify.com/v1/artists/7Ln80lUS6He07XvHI8qqHH'\n   id = '7Ln80lUS6He07XvHI8qqHH'\n   images = [3 x Image(height, url, width)]\n   name = 'Arctic Monkeys'\n   popularity = 88\n   type = 'artist'\n   uri = 'spotify:artist:7Ln80lUS6He07XvHI8qqHH',\n FullArtist with fields:\n   external_urls = {'spotify'}\n   followers = Followers(href, total)\n   genres = [5 x str]\n   href = 'https://api.spotify.com/v1/artists/4x1nvY2FN8jxqAFA0DA02H'\n   id = '4x1nvY2FN8jxqAFA0DA02H'\n   images = [3 x Image(height, url, width)]\n   name = 'John Lennon'\n   popularity = 77\n   type = 'artist'\n   uri = 'spotify:artist:4x1nvY2FN8jxqAFA0DA02H',\n FullArtist with fields:\n   external_urls = {'spotify'}\n   followers = Followers(href, total)\n   genres = [2 x str]\n   href = 'https://api.spotify.com/v1/artists/2s4tjL6W3qrblOe0raIzwJ'\n   id = '2s4tjL6W3qrblOe0raIzwJ'\n   images = [3 x Image(height, url, width)]\n   name = 'Yoko Ono'\n   popularity = 74\n   type = 'artist'\n   uri = 'spotify:artist:2s4tjL6W3qrblOe0raIzwJ',\n FullArtist with fields:\n   external_urls = {'spotify'}\n   followers = Followers(href, total)\n   genres = [2 x str]\n   href = 'https://api.spotify.com/v1/artists/2kS9NyuATpYwjeB93h24H5'\n   id = '2kS9NyuATpYwjeB93h24H5'\n   images = [3 x Image(height, url, width)]\n   name = 'Nina Chuba'\n   popularity = 71\n   type = 'artist'\n   uri = 'spotify:artist:2kS9NyuATpYwjeB93h24H5',\n FullArtist with fields:\n   external_urls = {'spotify'}\n   followers = Followers(href, total)\n   genres = [2 x str]\n   href = 'https://api.spotify.com/v1/artists/36caCzfSrrL7a8Mvd1SuRr'\n   id = '36caCzfSrrL7a8Mvd1SuRr'\n   images = [3 x Image(height, url, width)]\n   name = 'Chapo102'\n   popularity = 66\n   type = 'artist'\n   uri = 'spotify:artist:36caCzfSrrL7a8Mvd1SuRr',\n FullArtist with fields:\n   external_urls = {'spotify'}\n   followers = Followers(href, total)\n   genres = [4 x str]\n   href = 'https://api.spotify.com/v1/artists/5WUlDfRSoLAfcVSX1WnrxN'\n   id = '5WUlDfRSoLAfcVSX1WnrxN'\n   images = [3 x Image(height, url, width)]\n   name = 'Sia'\n   popularity = 87\n   type = 'artist'\n   uri = 'spotify:artist:5WUlDfRSoLAfcVSX1WnrxN',\n FullArtist with fields:\n   external_urls = {'spotify'}\n   followers = Followers(href, total)\n   genres = [1 x str]\n   href = 'https://api.spotify.com/v1/artists/49jTY62Cpw3RYo4dLuG43W'\n   id = '49jTY62Cpw3RYo4dLuG43W'\n   images = [3 x Image(height, url, width)]\n   name = 'Cian Ducrot'\n   popularity = 69\n   type = 'artist'\n   uri = 'spotify:artist:49jTY62Cpw3RYo4dLuG43W',\n FullArtist with fields:\n   external_urls = {'spotify'}\n   followers = Followers(href, total)\n   genres = [4 x str]\n   href = 'https://api.spotify.com/v1/artists/1GxkXlMwML1oSg5eLPiAz3'\n   id = '1GxkXlMwML1oSg5eLPiAz3'\n   images = [3 x Image(height, url, width)]\n   name = 'Michael Bublé'\n   popularity = 89\n   type = 'artist'\n   uri = 'spotify:artist:1GxkXlMwML1oSg5eLPiAz3',\n FullArtist with fields:\n   external_urls = {'spotify'}\n   followers = Followers(href, total)\n   genres = [1 x str]\n   href = 'https://api.spotify.com/v1/artists/6zcWVbyNT0z94MBffsTJGP'\n   id = '6zcWVbyNT0z94MBffsTJGP'\n   images = [3 x Image(height, url, width)]\n   name = 'KAMRAD'\n   popularity = 58\n   type = 'artist'\n   uri = 'spotify:artist:6zcWVbyNT0z94MBffsTJGP',\n FullArtist with fields:\n   external_urls = {'spotify'}\n   followers = Followers(href, total)\n   genres = [2 x str]\n   href = 'https://api.spotify.com/v1/artists/3QSQFmccmX81fWCUSPTS7y'\n   id = '3QSQFmccmX81fWCUSPTS7y'\n   images = [3 x Image(height, url, width)]\n   name = 'Dean Lewis'\n   popularity = 79\n   type = 'artist'\n   uri = 'spotify:artist:3QSQFmccmX81fWCUSPTS7y',\n FullArtist with fields:\n   external_urls = {'spotify'}\n   followers = Followers(href, total)\n   genres = [7 x str]\n   href = 'https://api.spotify.com/v1/artists/4STHEaNw4mPZ2tzheohgXB'\n   id = '4STHEaNw4mPZ2tzheohgXB'\n   images = [3 x Image(height, url, width)]\n   name = 'Paul McCartney'\n   popularity = 77\n   type = 'artist'\n   uri = 'spotify:artist:4STHEaNw4mPZ2tzheohgXB',\n FullArtist with fields:\n   external_urls = {'spotify'}\n   followers = Followers(href, total)\n   genres = [2 x str]\n   href = 'https://api.spotify.com/v1/artists/4sj6D0zlMOl25nprDJBiU9'\n   id = '4sj6D0zlMOl25nprDJBiU9'\n   images = [3 x Image(height, url, width)]\n   name = 'Andy Williams'\n   popularity = 80\n   type = 'artist'\n   uri = 'spotify:artist:4sj6D0zlMOl25nprDJBiU9',\n FullArtist with fields:\n   external_urls = {'spotify'}\n   followers = Followers(href, total)\n   genres = [2 x str]\n   href = 'https://api.spotify.com/v1/artists/5v8jlSmAQfrkTjAlpUfWtu'\n   id = '5v8jlSmAQfrkTjAlpUfWtu'\n   images = [4 x Image(height, url, width)]\n   name = 'Perry Como'\n   popularity = 76\n   type = 'artist'\n   uri = 'spotify:artist:5v8jlSmAQfrkTjAlpUfWtu',\n FullArtist with fields:\n   external_urls = {'spotify'}\n   followers = Followers(href, total)\n   genres = [2 x str]\n   href = 'https://api.spotify.com/v1/artists/1Ml4OuStDoympbREURAM15'\n   id = '1Ml4OuStDoympbREURAM15'\n   images = [3 x Image(height, url, width)]\n   name = 'The Fontane Sisters'\n   popularity = 71\n   type = 'artist'\n   uri = 'spotify:artist:1Ml4OuStDoympbREURAM15',\n FullArtist with fields:\n   external_urls = {'spotify'}\n   followers = Followers(href, total)\n   genres = [1 x str]\n   href = 'https://api.spotify.com/v1/artists/0HS96tPggl2nwiz3gNWWI5'\n   id = '0HS96tPggl2nwiz3gNWWI5'\n   images = [3 x Image(height, url, width)]\n   name = 'Mitchell Ayres & His Orchestra'\n   popularity = 71\n   type = 'artist'\n   uri = 'spotify:artist:0HS96tPggl2nwiz3gNWWI5',\n FullArtist with fields:\n   external_urls = {'spotify'}\n   followers = Followers(href, total)\n   genres = [3 x str]\n   href = 'https://api.spotify.com/v1/artists/49e4v89VmlDcFCMyDv9wQ9'\n   id = '49e4v89VmlDcFCMyDv9wQ9'\n   images = [3 x Image(height, url, width)]\n   name = 'Dean Martin'\n   popularity = 82\n   type = 'artist'\n   uri = 'spotify:artist:49e4v89VmlDcFCMyDv9wQ9',\n FullArtist with fields:\n   external_urls = {'spotify'}\n   followers = Followers(href, total)\n   genres = [3 x str]\n   href = 'https://api.spotify.com/v1/artists/6L7a6wPGpvLtTwOsMLnF1z'\n   id = '6L7a6wPGpvLtTwOsMLnF1z'\n   images = [3 x Image(height, url, width)]\n   name = 'D-Block & S-te-Fan'\n   popularity = 61\n   type = 'artist'\n   uri = 'spotify:artist:6L7a6wPGpvLtTwOsMLnF1z',\n FullArtist with fields:\n   external_urls = {'spotify'}\n   followers = Followers(href, total)\n   genres = [6 x str]\n   href = 'https://api.spotify.com/v1/artists/278ZYwGhdK6QTzE3MFePnP'\n   id = '278ZYwGhdK6QTzE3MFePnP'\n   images = [3 x Image(height, url, width)]\n   name = 'Trivium'\n   popularity = 63\n   type = 'artist'\n   uri = 'spotify:artist:278ZYwGhdK6QTzE3MFePnP',\n FullArtist with fields:\n   external_urls = {'spotify'}\n   followers = Followers(href, total)\n   genres = [0 x str]\n   href = 'https://api.spotify.com/v1/artists/7i7knDRybyk0pKGZs4TrA0'\n   id = '7i7knDRybyk0pKGZs4TrA0'\n   images = [3 x Image(height, url, width)]\n   name = 'The Whistlers'\n   popularity = 45\n   type = 'artist'\n   uri = 'spotify:artist:7i7knDRybyk0pKGZs4TrA0',\n FullArtist with fields:\n   external_urls = {'spotify'}\n   followers = Followers(href, total)\n   genres = [8 x str]\n   href = 'https://api.spotify.com/v1/artists/57ylwQTnFnIhJh4nu4rxCs'\n   id = '57ylwQTnFnIhJh4nu4rxCs'\n   images = [3 x Image(height, url, width)]\n   name = 'In Flames'\n   popularity = 65\n   type = 'artist'\n   uri = 'spotify:artist:57ylwQTnFnIhJh4nu4rxCs',\n FullArtist with fields:\n   external_urls = {'spotify'}\n   followers = Followers(href, total)\n   genres = [6 x str]\n   href = 'https://api.spotify.com/v1/artists/3Yr3yzpgJUMfM8LVvBezXj'\n   id = '3Yr3yzpgJUMfM8LVvBezXj'\n   images = [3 x Image(height, url, width)]\n   name = 'Elderwind'\n   popularity = 21\n   type = 'artist'\n   uri = 'spotify:artist:3Yr3yzpgJUMfM8LVvBezXj',\n FullArtist with fields:\n   external_urls = {'spotify'}\n   followers = Followers(href, total)\n   genres = [2 x str]\n   href = 'https://api.spotify.com/v1/artists/6vXYoy8ouRVib302zxaxFF'\n   id = '6vXYoy8ouRVib302zxaxFF'\n   images = [3 x Image(height, url, width)]\n   name = 'Lorna Shore'\n   popularity = 62\n   type = 'artist'\n   uri = 'spotify:artist:6vXYoy8ouRVib302zxaxFF',\n FullArtist with fields:\n   external_urls = {'spotify'}\n   followers = Followers(href, total)\n   genres = [1 x str]\n   href = 'https://api.spotify.com/v1/artists/0r0R5nIjDY04TfxRM10Bcb'\n   id = '0r0R5nIjDY04TfxRM10Bcb'\n   images = [3 x Image(height, url, width)]\n   name = 'Alligatoah'\n   popularity = 66\n   type = 'artist'\n   uri = 'spotify:artist:0r0R5nIjDY04TfxRM10Bcb',\n FullArtist with fields:\n   external_urls = {'spotify'}\n   followers = Followers(href, total)\n   genres = [4 x str]\n   href = 'https://api.spotify.com/v1/artists/2kK1cYRoYo24RzsHADtD0E'\n   id = '2kK1cYRoYo24RzsHADtD0E'\n   images = [3 x Image(height, url, width)]\n   name = 'Re-Style'\n   popularity = 50\n   type = 'artist'\n   uri = 'spotify:artist:2kK1cYRoYo24RzsHADtD0E',\n FullArtist with fields:\n   external_urls = {'spotify'}\n   followers = Followers(href, total)\n   genres = [3 x str]\n   href = 'https://api.spotify.com/v1/artists/0caJEGgVuXuSHhhrMCmlkI'\n   id = '0caJEGgVuXuSHhhrMCmlkI'\n   images = [3 x Image(height, url, width)]\n   name = 'Sefa'\n   popularity = 60\n   type = 'artist'\n   uri = 'spotify:artist:0caJEGgVuXuSHhhrMCmlkI',\n FullArtist with fields:\n   external_urls = {'spotify'}\n   followers = Followers(href, total)\n   genres = [3 x str]\n   href = 'https://api.spotify.com/v1/artists/2jXb8AWz82Sn3RRGOaia7a'\n   id = '2jXb8AWz82Sn3RRGOaia7a'\n   images = [3 x Image(height, url, width)]\n   name = 'Danger Dan'\n   popularity = 57\n   type = 'artist'\n   uri = 'spotify:artist:2jXb8AWz82Sn3RRGOaia7a',\n FullArtist with fields:\n   external_urls = {'spotify'}\n   followers = Followers(href, total)\n   genres = [1 x str]\n   href = 'https://api.spotify.com/v1/artists/5712BvYQ5m5Wcah576OFH4'\n   id = '5712BvYQ5m5Wcah576OFH4'\n   images = [3 x Image(height, url, width)]\n   name = 'PWR BTTM'\n   popularity = 34\n   type = 'artist'\n   uri = 'spotify:artist:5712BvYQ5m5Wcah576OFH4',\n FullArtist with fields:\n   external_urls = {'spotify'}\n   followers = Followers(href, total)\n   genres = [4 x str]\n   href = 'https://api.spotify.com/v1/artists/4tEWLl4loWFLgs25trNnro'\n   id = '4tEWLl4loWFLgs25trNnro'\n   images = [3 x Image(height, url, width)]\n   name = 'Betraying The Martyrs'\n   popularity = 44\n   type = 'artist'\n   uri = 'spotify:artist:4tEWLl4loWFLgs25trNnro',\n FullArtist with fields:\n   external_urls = {'spotify'}\n   followers = Followers(href, total)\n   genres = [5 x str]\n   href = 'https://api.spotify.com/v1/artists/6zvul52xwTWzilBZl6BUbT'\n   id = '6zvul52xwTWzilBZl6BUbT'\n   images = [3 x Image(height, url, width)]\n   name = 'Pixies'\n   popularity = 72\n   type = 'artist'\n   uri = 'spotify:artist:6zvul52xwTWzilBZl6BUbT',\n FullArtist with fields:\n   external_urls = {'spotify'}\n   followers = Followers(href, total)\n   genres = [3 x str]\n   href = 'https://api.spotify.com/v1/artists/1yxSLGMDHlW21z4YXirZDS'\n   id = '1yxSLGMDHlW21z4YXirZDS'\n   images = [3 x Image(height, url, width)]\n   name = 'Black Eyed Peas'\n   popularity = 82\n   type = 'artist'\n   uri = 'spotify:artist:1yxSLGMDHlW21z4YXirZDS',\n FullArtist with fields:\n   external_urls = {'spotify'}\n   followers = Followers(href, total)\n   genres = [5 x str]\n   href = 'https://api.spotify.com/v1/artists/5yirHkilaq4YSjO9BY6oy3'\n   id = '5yirHkilaq4YSjO9BY6oy3'\n   images = [3 x Image(height, url, width)]\n   name = 'N-Vitral'\n   popularity = 53\n   type = 'artist'\n   uri = 'spotify:artist:5yirHkilaq4YSjO9BY6oy3',\n FullArtist with fields:\n   external_urls = {'spotify'}\n   followers = Followers(href, total)\n   genres = [0 x str]\n   href = 'https://api.spotify.com/v1/artists/4Ub0mdQEa3RhAfwWgVXp46'\n   id = '4Ub0mdQEa3RhAfwWgVXp46'\n   images = [3 x Image(height, url, width)]\n   name = 'Sovereign King'\n   popularity = 36\n   type = 'artist'\n   uri = 'spotify:artist:4Ub0mdQEa3RhAfwWgVXp46',\n FullArtist with fields:\n   external_urls = {'spotify'}\n   followers = Followers(href, total)\n   genres = [0 x str]\n   href = 'https://api.spotify.com/v1/artists/4xhbLq3ngCmSNOIoqyS3AG'\n   id = '4xhbLq3ngCmSNOIoqyS3AG'\n   images = [3 x Image(height, url, width)]\n   name = 'Last Word'\n   popularity = 40\n   type = 'artist'\n   uri = 'spotify:artist:4xhbLq3ngCmSNOIoqyS3AG',\n FullArtist with fields:\n   external_urls = {'spotify'}\n   followers = Followers(href, total)\n   genres = [1 x str]\n   href = 'https://api.spotify.com/v1/artists/1fd3fmwlhrDl2U5wbbPQYN'\n   id = '1fd3fmwlhrDl2U5wbbPQYN'\n   images = [3 x Image(height, url, width)]\n   name = 'Apashe'\n   popularity = 61\n   type = 'artist'\n   uri = 'spotify:artist:1fd3fmwlhrDl2U5wbbPQYN',\n FullArtist with fields:\n   external_urls = {'spotify'}\n   followers = Followers(href, total)\n   genres = [0 x str]\n   href = 'https://api.spotify.com/v1/artists/3kGJGwSmyImKKigpSkKnTz'\n   id = '3kGJGwSmyImKKigpSkKnTz'\n   images = [3 x Image(height, url, width)]\n   name = 'Black Prez'\n   popularity = 40\n   type = 'artist'\n   uri = 'spotify:artist:3kGJGwSmyImKKigpSkKnTz',\n FullArtist with fields:\n   external_urls = {'spotify'}\n   followers = Followers(href, total)\n   genres = [1 x str]\n   href = 'https://api.spotify.com/v1/artists/20bAxKr0YrCvceZeLqs37e'\n   id = '20bAxKr0YrCvceZeLqs37e'\n   images = [3 x Image(height, url, width)]\n   name = 'Nomy'\n   popularity = 53\n   type = 'artist'\n   uri = 'spotify:artist:20bAxKr0YrCvceZeLqs37e',\n FullArtist with fields:\n   external_urls = {'spotify'}\n   followers = Followers(href, total)\n   genres = [4 x str]\n   href = 'https://api.spotify.com/v1/artists/4tEWLl4loWFLgs25trNnro'\n   id = '4tEWLl4loWFLgs25trNnro'\n   images = [3 x Image(height, url, width)]\n   name = 'Betraying The Martyrs'\n   popularity = 44\n   type = 'artist'\n   uri = 'spotify:artist:4tEWLl4loWFLgs25trNnro',\n FullArtist with fields:\n   external_urls = {'spotify'}\n   followers = Followers(href, total)\n   genres = [5 x str]\n   href = 'https://api.spotify.com/v1/artists/1Cs0zKBU1kc0i8ypK3B9ai'\n   id = '1Cs0zKBU1kc0i8ypK3B9ai'\n   images = [3 x Image(height, url, width)]\n   name = 'David Guetta'\n   popularity = 90\n   type = 'artist'\n   uri = 'spotify:artist:1Cs0zKBU1kc0i8ypK3B9ai',\n FullArtist with fields:\n   external_urls = {'spotify'}\n   followers = Followers(href, total)\n   genres = [4 x str]\n   href = 'https://api.spotify.com/v1/artists/64M6ah0SkkRsnPGtGiRAbb'\n   id = '64M6ah0SkkRsnPGtGiRAbb'\n   images = [3 x Image(height, url, width)]\n   name = 'Bebe Rexha'\n   popularity = 84\n   type = 'artist'\n   uri = 'spotify:artist:64M6ah0SkkRsnPGtGiRAbb',\n FullArtist with fields:\n   external_urls = {'spotify'}\n   followers = Followers(href, total)\n   genres = [4 x str]\n   href = 'https://api.spotify.com/v1/artists/6XyY86QOPPrYVGvF9ch6wz'\n   id = '6XyY86QOPPrYVGvF9ch6wz'\n   images = [3 x Image(height, url, width)]\n   name = 'Linkin Park'\n   popularity = 84\n   type = 'artist'\n   uri = 'spotify:artist:6XyY86QOPPrYVGvF9ch6wz',\n FullArtist with fields:\n   external_urls = {'spotify'}\n   followers = Followers(href, total)\n   genres = [3 x str]\n   href = 'https://api.spotify.com/v1/artists/3PhoLpVuITZKcymswpck5b'\n   id = '3PhoLpVuITZKcymswpck5b'\n   images = [3 x Image(height, url, width)]\n   name = 'Elton John'\n   popularity = 86\n   type = 'artist'\n   uri = 'spotify:artist:3PhoLpVuITZKcymswpck5b',\n FullArtist with fields:\n   external_urls = {'spotify'}\n   followers = Followers(href, total)\n   genres = [6 x str]\n   href = 'https://api.spotify.com/v1/artists/3q7HBObVc0L8jNeTe5Gofh'\n   id = '3q7HBObVc0L8jNeTe5Gofh'\n   images = [4 x Image(height, url, width)]\n   name = '50 Cent'\n   popularity = 83\n   type = 'artist'\n   uri = 'spotify:artist:3q7HBObVc0L8jNeTe5Gofh',\n FullArtist with fields:\n   external_urls = {'spotify'}\n   followers = Followers(href, total)\n   genres = [7 x str]\n   href = 'https://api.spotify.com/v1/artists/2kfVqdz3lJshqH9GUHhtMr'\n   id = '2kfVqdz3lJshqH9GUHhtMr'\n   images = [3 x Image(height, url, width)]\n   name = 'Psychostick'\n   popularity = 46\n   type = 'artist'\n   uri = 'spotify:artist:2kfVqdz3lJshqH9GUHhtMr',\n FullArtist with fields:\n   external_urls = {'spotify'}\n   followers = Followers(href, total)\n   genres = [2 x str]\n   href = 'https://api.spotify.com/v1/artists/5Pwc4xIPtQLFEnJriah9YJ'\n   id = '5Pwc4xIPtQLFEnJriah9YJ'\n   images = [3 x Image(height, url, width)]\n   name = 'OneRepublic'\n   popularity = 85\n   type = 'artist'\n   uri = 'spotify:artist:5Pwc4xIPtQLFEnJriah9YJ',\n FullArtist with fields:\n   external_urls = {'spotify'}\n   followers = Followers(href, total)\n   genres = [1 x str]\n   href = 'https://api.spotify.com/v1/artists/6rqlONGmPuP2wJVSfliLBI'\n   id = '6rqlONGmPuP2wJVSfliLBI'\n   images = [3 x Image(height, url, width)]\n   name = 'Peter Fox'\n   popularity = 69\n   type = 'artist'\n   uri = 'spotify:artist:6rqlONGmPuP2wJVSfliLBI',\n FullArtist with fields:\n   external_urls = {'spotify'}\n   followers = Followers(href, total)\n   genres = [0 x str]\n   href = 'https://api.spotify.com/v1/artists/6zBax4hSAI1BJYgwF61EP5'\n   id = '6zBax4hSAI1BJYgwF61EP5'\n   images = [3 x Image(height, url, width)]\n   name = 'Inéz'\n   popularity = 65\n   type = 'artist'\n   uri = 'spotify:artist:6zBax4hSAI1BJYgwF61EP5',\n FullArtist with fields:\n   external_urls = {'spotify'}\n   followers = Followers(href, total)\n   genres = [1 x str]\n   href = 'https://api.spotify.com/v1/artists/2qn4hIXsvRUyFoboMi31XB'\n   id = '2qn4hIXsvRUyFoboMi31XB'\n   images = [4 x Image(height, url, width)]\n   name = 'Rolf Zuckowski'\n   popularity = 70\n   type = 'artist'\n   uri = 'spotify:artist:2qn4hIXsvRUyFoboMi31XB',\n FullArtist with fields:\n   external_urls = {'spotify'}\n   followers = Followers(href, total)\n   genres = [2 x str]\n   href = 'https://api.spotify.com/v1/artists/4iHNK0tOyZPYnBU7nGAgpQ'\n   id = '4iHNK0tOyZPYnBU7nGAgpQ'\n   images = [3 x Image(height, url, width)]\n   name = 'Mariah Carey'\n   popularity = 87\n   type = 'artist'\n   uri = 'spotify:artist:4iHNK0tOyZPYnBU7nGAgpQ',\n FullArtist with fields:\n   external_urls = {'spotify'}\n   followers = Followers(href, total)\n   genres = [3 x str]\n   href = 'https://api.spotify.com/v1/artists/6QrQ7OrISRYIfS5mtacaw2'\n   id = '6QrQ7OrISRYIfS5mtacaw2'\n   images = [3 x Image(height, url, width)]\n   name = 'Jaymes Young'\n   popularity = 72\n   type = 'artist'\n   uri = 'spotify:artist:6QrQ7OrISRYIfS5mtacaw2',\n FullArtist with fields:\n   external_urls = {'spotify'}\n   followers = Followers(href, total)\n   genres = [5 x str]\n   href = 'https://api.spotify.com/v1/artists/7Ln80lUS6He07XvHI8qqHH'\n   id = '7Ln80lUS6He07XvHI8qqHH'\n   images = [3 x Image(height, url, width)]\n   name = 'Arctic Monkeys'\n   popularity = 88\n   type = 'artist'\n   uri = 'spotify:artist:7Ln80lUS6He07XvHI8qqHH',\n FullArtist with fields:\n   external_urls = {'spotify'}\n   followers = Followers(href, total)\n   genres = [5 x str]\n   href = 'https://api.spotify.com/v1/artists/4x1nvY2FN8jxqAFA0DA02H'\n   id = '4x1nvY2FN8jxqAFA0DA02H'\n   images = [3 x Image(height, url, width)]\n   name = 'John Lennon'\n   popularity = 77\n   type = 'artist'\n   uri = 'spotify:artist:4x1nvY2FN8jxqAFA0DA02H',\n FullArtist with fields:\n   external_urls = {'spotify'}\n   followers = Followers(href, total)\n   genres = [2 x str]\n   href = 'https://api.spotify.com/v1/artists/2s4tjL6W3qrblOe0raIzwJ'\n   id = '2s4tjL6W3qrblOe0raIzwJ'\n   images = [3 x Image(height, url, width)]\n   name = 'Yoko Ono'\n   popularity = 74\n   type = 'artist'\n   uri = 'spotify:artist:2s4tjL6W3qrblOe0raIzwJ',\n FullArtist with fields:\n   external_urls = {'spotify'}\n   followers = Followers(href, total)\n   genres = [2 x str]\n   href = 'https://api.spotify.com/v1/artists/2kS9NyuATpYwjeB93h24H5'\n   id = '2kS9NyuATpYwjeB93h24H5'\n   images = [3 x Image(height, url, width)]\n   name = 'Nina Chuba'\n   popularity = 71\n   type = 'artist'\n   uri = 'spotify:artist:2kS9NyuATpYwjeB93h24H5',\n FullArtist with fields:\n   external_urls = {'spotify'}\n   followers = Followers(href, total)\n   genres = [2 x str]\n   href = 'https://api.spotify.com/v1/artists/36caCzfSrrL7a8Mvd1SuRr'\n   id = '36caCzfSrrL7a8Mvd1SuRr'\n   images = [3 x Image(height, url, width)]\n   name = 'Chapo102'\n   popularity = 66\n   type = 'artist'\n   uri = 'spotify:artist:36caCzfSrrL7a8Mvd1SuRr',\n FullArtist with fields:\n   external_urls = {'spotify'}\n   followers = Followers(href, total)\n   genres = [4 x str]\n   href = 'https://api.spotify.com/v1/artists/5WUlDfRSoLAfcVSX1WnrxN'\n   id = '5WUlDfRSoLAfcVSX1WnrxN'\n   images = [3 x Image(height, url, width)]\n   name = 'Sia'\n   popularity = 87\n   type = 'artist'\n   uri = 'spotify:artist:5WUlDfRSoLAfcVSX1WnrxN',\n FullArtist with fields:\n   external_urls = {'spotify'}\n   followers = Followers(href, total)\n   genres = [1 x str]\n   href = 'https://api.spotify.com/v1/artists/49jTY62Cpw3RYo4dLuG43W'\n   id = '49jTY62Cpw3RYo4dLuG43W'\n   images = [3 x Image(height, url, width)]\n   name = 'Cian Ducrot'\n   popularity = 69\n   type = 'artist'\n   uri = 'spotify:artist:49jTY62Cpw3RYo4dLuG43W',\n FullArtist with fields:\n   external_urls = {'spotify'}\n   followers = Followers(href, total)\n   genres = [4 x str]\n   href = 'https://api.spotify.com/v1/artists/1GxkXlMwML1oSg5eLPiAz3'\n   id = '1GxkXlMwML1oSg5eLPiAz3'\n   images = [3 x Image(height, url, width)]\n   name = 'Michael Bublé'\n   popularity = 89\n   type = 'artist'\n   uri = 'spotify:artist:1GxkXlMwML1oSg5eLPiAz3',\n FullArtist with fields:\n   external_urls = {'spotify'}\n   followers = Followers(href, total)\n   genres = [1 x str]\n   href = 'https://api.spotify.com/v1/artists/6zcWVbyNT0z94MBffsTJGP'\n   id = '6zcWVbyNT0z94MBffsTJGP'\n   images = [3 x Image(height, url, width)]\n   name = 'KAMRAD'\n   popularity = 58\n   type = 'artist'\n   uri = 'spotify:artist:6zcWVbyNT0z94MBffsTJGP',\n FullArtist with fields:\n   external_urls = {'spotify'}\n   followers = Followers(href, total)\n   genres = [2 x str]\n   href = 'https://api.spotify.com/v1/artists/3QSQFmccmX81fWCUSPTS7y'\n   id = '3QSQFmccmX81fWCUSPTS7y'\n   images = [3 x Image(height, url, width)]\n   name = 'Dean Lewis'\n   popularity = 79\n   type = 'artist'\n   uri = 'spotify:artist:3QSQFmccmX81fWCUSPTS7y',\n FullArtist with fields:\n   external_urls = {'spotify'}\n   followers = Followers(href, total)\n   genres = [7 x str]\n   href = 'https://api.spotify.com/v1/artists/4STHEaNw4mPZ2tzheohgXB'\n   id = '4STHEaNw4mPZ2tzheohgXB'\n   images = [3 x Image(height, url, width)]\n   name = 'Paul McCartney'\n   popularity = 77\n   type = 'artist'\n   uri = 'spotify:artist:4STHEaNw4mPZ2tzheohgXB',\n FullArtist with fields:\n   external_urls = {'spotify'}\n   followers = Followers(href, total)\n   genres = [2 x str]\n   href = 'https://api.spotify.com/v1/artists/4sj6D0zlMOl25nprDJBiU9'\n   id = '4sj6D0zlMOl25nprDJBiU9'\n   images = [3 x Image(height, url, width)]\n   name = 'Andy Williams'\n   popularity = 80\n   type = 'artist'\n   uri = 'spotify:artist:4sj6D0zlMOl25nprDJBiU9',\n FullArtist with fields:\n   external_urls = {'spotify'}\n   followers = Followers(href, total)\n   genres = [2 x str]\n   href = 'https://api.spotify.com/v1/artists/5v8jlSmAQfrkTjAlpUfWtu'\n   id = '5v8jlSmAQfrkTjAlpUfWtu'\n   images = [4 x Image(height, url, width)]\n   name = 'Perry Como'\n   popularity = 76\n   type = 'artist'\n   uri = 'spotify:artist:5v8jlSmAQfrkTjAlpUfWtu',\n FullArtist with fields:\n   external_urls = {'spotify'}\n   followers = Followers(href, total)\n   genres = [2 x str]\n   href = 'https://api.spotify.com/v1/artists/1Ml4OuStDoympbREURAM15'\n   id = '1Ml4OuStDoympbREURAM15'\n   images = [3 x Image(height, url, width)]\n   name = 'The Fontane Sisters'\n   popularity = 71\n   type = 'artist'\n   uri = 'spotify:artist:1Ml4OuStDoympbREURAM15',\n FullArtist with fields:\n   external_urls = {'spotify'}\n   followers = Followers(href, total)\n   genres = [1 x str]\n   href = 'https://api.spotify.com/v1/artists/0HS96tPggl2nwiz3gNWWI5'\n   id = '0HS96tPggl2nwiz3gNWWI5'\n   images = [3 x Image(height, url, width)]\n   name = 'Mitchell Ayres & His Orchestra'\n   popularity = 71\n   type = 'artist'\n   uri = 'spotify:artist:0HS96tPggl2nwiz3gNWWI5',\n FullArtist with fields:\n   external_urls = {'spotify'}\n   followers = Followers(href, total)\n   genres = [3 x str]\n   href = 'https://api.spotify.com/v1/artists/49e4v89VmlDcFCMyDv9wQ9'\n   id = '49e4v89VmlDcFCMyDv9wQ9'\n   images = [3 x Image(height, url, width)]\n   name = 'Dean Martin'\n   popularity = 82\n   type = 'artist'\n   uri = 'spotify:artist:49e4v89VmlDcFCMyDv9wQ9',\n FullArtist with fields:\n   external_urls = {'spotify'}\n   followers = Followers(href, total)\n   genres = [4 x str]\n   href = 'https://api.spotify.com/v1/artists/1GxkXlMwML1oSg5eLPiAz3'\n   id = '1GxkXlMwML1oSg5eLPiAz3'\n   images = [3 x Image(height, url, width)]\n   name = 'Michael Bublé'\n   popularity = 89\n   type = 'artist'\n   uri = 'spotify:artist:1GxkXlMwML1oSg5eLPiAz3']"
     },
     "execution_count": 4,
     "metadata": {},
     "output_type": "execute_result"
    }
   ],
   "source": [
    "from project.util import Partition\n",
    "\n",
    "artist_id_limit=50\n",
    "artist_ids = [artist.id for track in tracks for artist in track.artists]\n",
    "artist_id_partitions = Partition(artist_ids)\n",
    "artists = [spotify.artists(ids) for ids in artist_id_partitions]\n",
    "artists = [artist for partition in artists for artist in partition]\n",
    "artists"
   ],
   "metadata": {
    "collapsed": false
   }
  },
  {
   "cell_type": "code",
   "execution_count": 5,
   "outputs": [],
   "source": [
    "import model.track as model\n",
    "analyzed_tracks = model.AnalyzedTracks(tracks, artists)"
   ],
   "metadata": {
    "collapsed": false
   }
  },
  {
   "cell_type": "markdown",
   "source": [
    "# Firebase"
   ],
   "metadata": {
    "collapsed": false
   }
  },
  {
   "cell_type": "code",
   "execution_count": 6,
   "outputs": [
    {
     "data": {
      "text/plain": "<firebase_admin.App at 0x7f7306aa8910>"
     },
     "execution_count": 6,
     "metadata": {},
     "output_type": "execute_result"
    }
   ],
   "source": [
    "import firebase_admin\n",
    "from firebase_admin import credentials, firestore\n",
    "\n",
    "cred = credentials.ApplicationDefault()\n",
    "firebase_admin.initialize_app(cred)"
   ],
   "metadata": {
    "collapsed": false
   }
  },
  {
   "cell_type": "code",
   "execution_count": 7,
   "outputs": [],
   "source": [
    "from google.cloud.firestore_v1 import DocumentReference, Client\n",
    "\n",
    "firestore_client: Client = firestore.client()\n",
    "analyzed_tracks.upsert(firestore_client.collection(\"tracks\"))"
   ],
   "metadata": {
    "collapsed": false
   }
  },
  {
   "cell_type": "code",
   "execution_count": 7,
   "outputs": [],
   "source": [],
   "metadata": {
    "collapsed": false
   }
  },
  {
   "cell_type": "code",
   "execution_count": 7,
   "outputs": [],
   "source": [],
   "metadata": {
    "collapsed": false
   }
  }
 ],
 "metadata": {
  "kernelspec": {
   "display_name": "Python 3",
   "language": "python",
   "name": "python3"
  },
  "language_info": {
   "codemirror_mode": {
    "name": "ipython",
    "version": 2
   },
   "file_extension": ".py",
   "mimetype": "text/x-python",
   "name": "python",
   "nbconvert_exporter": "python",
   "pygments_lexer": "ipython2",
   "version": "2.7.6"
  }
 },
 "nbformat": 4,
 "nbformat_minor": 0
}
