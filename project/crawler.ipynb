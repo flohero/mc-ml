{
 "cells": [
  {
   "cell_type": "markdown",
   "source": [
    "# Server"
   ],
   "metadata": {
    "collapsed": false
   }
  },
  {
   "cell_type": "code",
   "execution_count": 1,
   "metadata": {
    "collapsed": true
   },
   "outputs": [
    {
     "name": "stderr",
     "output_type": "stream",
     "text": [
      "\u001B[31m\u001B[1mWARNING: This is a development server. Do not use it in a production deployment. Use a production WSGI server instead.\u001B[0m\n",
      " * Running on http://127.0.0.1:5000\n",
      "\u001B[33mPress CTRL+C to quit\u001B[0m\n",
      "127.0.0.1 - - [05/Jan/2023 15:21:42] \"GET / HTTP/1.1\" 200 -\n",
      "127.0.0.1 - - [05/Jan/2023 15:21:42] \"\u001B[33mGET /favicon.ico HTTP/1.1\u001B[0m\" 404 -\n",
      "127.0.0.1 - - [05/Jan/2023 15:21:43] \"GET / HTTP/1.1\" 200 -\n",
      "127.0.0.1 - - [05/Jan/2023 15:21:43] \"\u001B[32mGET /login HTTP/1.1\u001B[0m\" 307 -\n"
     ]
    },
    {
     "data": {
      "text/plain": "Token(access_token='BQAUrix4VagOD_Ms6p4ym4sLPTHWa656qxRv1FRSgBcQYzS7NxPB4EWky1TQyduZvIK3y22aeTMDp9beLP6-ewjzkDG398Za_yw1ds53f5U2KxZ3kKY18LKVyQLLO7BXXxvon2UEJ4TDSRs7RmDL4Ywhg3ToSD8VBUuMe9uLp57ONAG0DxN7RiGrQg', refresh_token='AQC0r1QZzevVzNyOeDFvDfkXqWFpwHzNKkhxo_26TV79XJIlP_YmNJxyX0Jp-CxMyxFg_4QlLutc92TfUBO40P5NXhrbfF4_bbMQj7GtWsXmrcHQHoBcmT_U6Q9-yJ8kGQw', expires_at=1672932105, scope=Scope('['user-read-currently-playing', 'user-top-read']'))"
     },
     "execution_count": 1,
     "metadata": {},
     "output_type": "execute_result"
    }
   ],
   "source": [
    "from multiprocessing import Queue, Process\n",
    "\n",
    "import tekore as tk\n",
    "from dotenv import load_dotenv\n",
    "\n",
    "import server\n",
    "\n",
    "load_dotenv()\n",
    "\n",
    "conf = tk.config_from_environment()\n",
    "cred = tk.Credentials(*conf)\n",
    "spotify = tk.Spotify()\n",
    "host = '127.0.0.1'\n",
    "port = 5000\n",
    "\n",
    "# Multiprocessing\n",
    "app = server.SingleUseAuthServer(host, port, spotify, cred)\n",
    "token = app.spawn_single_use_server()\n",
    "token"
   ]
  },
  {
   "cell_type": "code",
   "execution_count": null,
   "outputs": [],
   "source": [
    "spotify"
   ],
   "metadata": {
    "collapsed": false
   }
  },
  {
   "cell_type": "code",
   "execution_count": null,
   "outputs": [],
   "source": [],
   "metadata": {
    "collapsed": false
   }
  }
 ],
 "metadata": {
  "kernelspec": {
   "display_name": "Python 3",
   "language": "python",
   "name": "python3"
  },
  "language_info": {
   "codemirror_mode": {
    "name": "ipython",
    "version": 2
   },
   "file_extension": ".py",
   "mimetype": "text/x-python",
   "name": "python",
   "nbconvert_exporter": "python",
   "pygments_lexer": "ipython2",
   "version": "2.7.6"
  }
 },
 "nbformat": 4,
 "nbformat_minor": 0
}
