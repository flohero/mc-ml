{
 "cells": [
  {
   "cell_type": "markdown",
   "source": [
    "# Server"
   ],
   "metadata": {
    "collapsed": false
   }
  },
  {
   "cell_type": "code",
   "execution_count": 1,
   "metadata": {
    "collapsed": true
   },
   "outputs": [
    {
     "name": "stderr",
     "output_type": "stream",
     "text": [
      "\u001B[31m\u001B[1mWARNING: This is a development server. Do not use it in a production deployment. Use a production WSGI server instead.\u001B[0m\n",
      " * Running on http://127.0.0.1:5000\n",
      "\u001B[33mPress CTRL+C to quit\u001B[0m\n",
      "127.0.0.1 - - [05/Jan/2023 15:54:25] \"GET / HTTP/1.1\" 200 -\n",
      "127.0.0.1 - - [05/Jan/2023 15:54:26] \"\u001B[32mGET /login HTTP/1.1\u001B[0m\" 307 -\n"
     ]
    }
   ],
   "source": [
    "import tekore as tk\n",
    "from dotenv import load_dotenv\n",
    "\n",
    "import server\n",
    "\n",
    "load_dotenv()\n",
    "\n",
    "conf = tk.config_from_environment()\n",
    "cred = tk.Credentials(*conf)\n",
    "spotify = tk.Spotify()\n",
    "host = '127.0.0.1'\n",
    "port = 5000\n",
    "\n",
    "# Multiprocessing\n",
    "app = server.SingleUseAuthServer(host, port, spotify, cred)\n",
    "token = app.spawn_single_use_server()\n",
    "spotify.token = token"
   ]
  },
  {
   "cell_type": "code",
   "execution_count": 2,
   "outputs": [
    {
     "ename": "Unauthorised",
     "evalue": "Error in https://api.spotify.com/v1/me/top/tracks?time_range=medium_term&limit=20&offset=0:\n401: Invalid access token\n",
     "output_type": "error",
     "traceback": [
      "\u001B[0;31m---------------------------------------------------------------------------\u001B[0m",
      "\u001B[0;31mUnauthorised\u001B[0m                              Traceback (most recent call last)",
      "Cell \u001B[0;32mIn [2], line 1\u001B[0m\n\u001B[0;32m----> 1\u001B[0m page \u001B[38;5;241m=\u001B[39m \u001B[43mspotify\u001B[49m\u001B[38;5;241;43m.\u001B[39;49m\u001B[43mcurrent_user_top_tracks\u001B[49m\u001B[43m(\u001B[49m\u001B[43m)\u001B[49m\n",
      "File \u001B[0;32m~/projects/fh/mc/ml/venv/lib/python3.10/site-packages/tekore/_sender/client.py:89\u001B[0m, in \u001B[0;36msend_and_process.<locals>.decorator.<locals>.wrapper\u001B[0;34m(self, *args, **kwargs)\u001B[0m\n\u001B[1;32m     86\u001B[0m     \u001B[38;5;28;01mreturn\u001B[39;00m async_send(\u001B[38;5;28mself\u001B[39m, request, params)\n\u001B[1;32m     88\u001B[0m response \u001B[38;5;241m=\u001B[39m \u001B[38;5;28mself\u001B[39m\u001B[38;5;241m.\u001B[39msend(request)\n\u001B[0;32m---> 89\u001B[0m \u001B[38;5;28;01mreturn\u001B[39;00m \u001B[43mtry_post_func\u001B[49m\u001B[43m(\u001B[49m\u001B[43mrequest\u001B[49m\u001B[43m,\u001B[49m\u001B[43m \u001B[49m\u001B[43mresponse\u001B[49m\u001B[43m,\u001B[49m\u001B[43m \u001B[49m\u001B[38;5;241;43m*\u001B[39;49m\u001B[43mparams\u001B[49m\u001B[43m)\u001B[49m\n",
      "File \u001B[0;32m~/projects/fh/mc/ml/venv/lib/python3.10/site-packages/tekore/_sender/client.py:70\u001B[0m, in \u001B[0;36msend_and_process.<locals>.decorator.<locals>.try_post_func\u001B[0;34m(*args, **kwargs)\u001B[0m\n\u001B[1;32m     68\u001B[0m \u001B[38;5;28;01mdef\u001B[39;00m \u001B[38;5;21mtry_post_func\u001B[39m(\u001B[38;5;241m*\u001B[39margs, \u001B[38;5;241m*\u001B[39m\u001B[38;5;241m*\u001B[39mkwargs):\n\u001B[1;32m     69\u001B[0m     \u001B[38;5;28;01mtry\u001B[39;00m:\n\u001B[0;32m---> 70\u001B[0m         \u001B[38;5;28;01mreturn\u001B[39;00m \u001B[43mpost_func\u001B[49m\u001B[43m(\u001B[49m\u001B[38;5;241;43m*\u001B[39;49m\u001B[43margs\u001B[49m\u001B[43m,\u001B[49m\u001B[43m \u001B[49m\u001B[38;5;241;43m*\u001B[39;49m\u001B[38;5;241;43m*\u001B[39;49m\u001B[43mkwargs\u001B[49m\u001B[43m)\u001B[49m\n\u001B[1;32m     71\u001B[0m     \u001B[38;5;28;01mexcept\u001B[39;00m Unauthorised \u001B[38;5;28;01mas\u001B[39;00m e:\n\u001B[1;32m     72\u001B[0m         e\u001B[38;5;241m.\u001B[39mscope \u001B[38;5;241m=\u001B[39m wrapper\u001B[38;5;241m.\u001B[39mscope\n",
      "File \u001B[0;32m~/projects/fh/mc/ml/venv/lib/python3.10/site-packages/tekore/_client/decor/__init__.py:19\u001B[0m, in \u001B[0;36msend_and_process.<locals>.parse_response\u001B[0;34m(request, response)\u001B[0m\n\u001B[1;32m     18\u001B[0m \u001B[38;5;28;01mdef\u001B[39;00m \u001B[38;5;21mparse_response\u001B[39m(request, response):\n\u001B[0;32m---> 19\u001B[0m     \u001B[43mhandle_errors\u001B[49m\u001B[43m(\u001B[49m\u001B[43mrequest\u001B[49m\u001B[43m,\u001B[49m\u001B[43m \u001B[49m\u001B[43mresponse\u001B[49m\u001B[43m)\u001B[49m\n\u001B[1;32m     20\u001B[0m     \u001B[38;5;28;01mreturn\u001B[39;00m post_func(response\u001B[38;5;241m.\u001B[39mcontent)\n",
      "File \u001B[0;32m~/projects/fh/mc/ml/venv/lib/python3.10/site-packages/tekore/_client/decor/handle.py:33\u001B[0m, in \u001B[0;36mhandle_errors\u001B[0;34m(request, response)\u001B[0m\n\u001B[1;32m     27\u001B[0m error_str \u001B[38;5;241m=\u001B[39m error_format\u001B[38;5;241m.\u001B[39mformat(\n\u001B[1;32m     28\u001B[0m     url\u001B[38;5;241m=\u001B[39mresponse\u001B[38;5;241m.\u001B[39murl,\n\u001B[1;32m     29\u001B[0m     code\u001B[38;5;241m=\u001B[39mresponse\u001B[38;5;241m.\u001B[39mstatus_code,\n\u001B[1;32m     30\u001B[0m     msg\u001B[38;5;241m=\u001B[39mparse_error_reason(response)\n\u001B[1;32m     31\u001B[0m )\n\u001B[1;32m     32\u001B[0m error_cls \u001B[38;5;241m=\u001B[39m get_error(response\u001B[38;5;241m.\u001B[39mstatus_code)\n\u001B[0;32m---> 33\u001B[0m \u001B[38;5;28;01mraise\u001B[39;00m error_cls(error_str, request\u001B[38;5;241m=\u001B[39mrequest, response\u001B[38;5;241m=\u001B[39mresponse)\n",
      "\u001B[0;31mUnauthorised\u001B[0m: Error in https://api.spotify.com/v1/me/top/tracks?time_range=medium_term&limit=20&offset=0:\n401: Invalid access token\n"
     ]
    }
   ],
   "source": [
    "page = spotify.current_user_top_tracks()"
   ],
   "metadata": {
    "collapsed": false
   }
  },
  {
   "cell_type": "code",
   "execution_count": 18,
   "outputs": [],
   "source": [
    "spotify.token = cred.refresh(spotify.token)"
   ],
   "metadata": {
    "collapsed": false
   }
  },
  {
   "cell_type": "code",
   "execution_count": 19,
   "outputs": [
    {
     "data": {
      "text/plain": "'Unleash The Archers'"
     },
     "execution_count": 19,
     "metadata": {},
     "output_type": "execute_result"
    }
   ],
   "source": [
    "page.items[0].artists[0].name"
   ],
   "metadata": {
    "collapsed": false
   }
  },
  {
   "cell_type": "code",
   "execution_count": 3,
   "outputs": [
    {
     "name": "stdout",
     "output_type": "stream",
     "text": [
      "Wanderer\n",
      "Was Du Liebe nennst\n",
      "We Just Don't Stop\n",
      "In Waves\n",
      "God Was Never on Your Side\n",
      "Fuck With a Witch\n",
      "When Everything Means Nothing\n",
      "The Weekend\n",
      "You Want a Battle? (Here's a War)\n",
      "Now We Die\n",
      "Around the World (La la La)\n",
      "Shield Wall\n",
      "PEACE LOVE & WUBZ\n",
      "Gegen den Wind - Piano Version\n",
      "Dead Man Walking\n",
      "Wildberry Lillet\n",
      "God's Wrath\n",
      "WORTH NOTHING - Fast & Furious: Drift Tape/Phonk Vol 1\n",
      "Without Me\n",
      "Stereo Love - Wildstylez Remix\n",
      "Sweater Weather\n",
      "All I Want for Christmas Is You\n",
      "STAR WALKIN' (League of Legends Worlds Anthem)\n",
      "Wake Me Up\n",
      "We Made It\n",
      "Nachts wach (Lila Wolken Bootleg)\n",
      "Last Christmas\n",
      "Nachts wach\n",
      "Another Love\n",
      "Happy Xmas (War Is Over) - Remastered 2010\n",
      "Wonderful Christmastime - Edited Version / Remastered 2011\n",
      "Where Are You Now\n",
      "I Ain't Worried\n",
      "Creepin' (with The Weeknd & 21 Savage)\n",
      "Weg von mir\n",
      "Let It Snow! Let It Snow! Let It Snow!\n",
      "Wonderful Dream (Holidays Are Coming) - Radio Version\n",
      "It's the Most Wonderful Time of the Year\n",
      "willow\n",
      "West Connect (feat. Central Cee)\n",
      "Weihnachtsbäckerei\n",
      "Where Did You Go? (feat. MNEK)\n",
      "White Christmas\n",
      "Underneath the Tree\n",
      "Winter Wonderland\n",
      "Winter Wonderland\n",
      "What Christmas Means To Me\n",
      "willow\n",
      "When the Angels Sing - Winter Version\n",
      "Christmas Without You\n"
     ]
    },
    {
     "data": {
      "text/plain": "ModelList with items: [\n  FullTrack(album, artists, available_markets, disc_number, ...)\n  FullTrack(album, artists, available_markets, disc_number, ...)\n  FullTrack(album, artists, available_markets, disc_number, ...)\n  FullTrack(album, artists, available_markets, disc_number, ...)\n  FullTrack(album, artists, available_markets, disc_number, ...)\n  FullTrack(album, artists, available_markets, disc_number, ...)\n  FullTrack(album, artists, available_markets, disc_number, ...)\n  FullTrack(album, artists, available_markets, disc_number, ...)\n  FullTrack(album, artists, available_markets, disc_number, ...)\n  FullTrack(album, artists, available_markets, disc_number, ...)\n  FullTrack(album, artists, available_markets, disc_number, ...)\n  FullTrack(album, artists, available_markets, disc_number, ...)\n  FullTrack(album, artists, available_markets, disc_number, ...)\n  FullTrack(album, artists, available_markets, disc_number, ...)\n  FullTrack(album, artists, available_markets, disc_number, ...)\n  FullTrack(album, artists, available_markets, disc_number, ...)\n  FullTrack(album, artists, available_markets, disc_number, ...)\n  FullTrack(album, artists, available_markets, disc_number, ...)\n  FullTrack(album, artists, available_markets, disc_number, ...)\n  FullTrack(album, artists, available_markets, disc_number, ...)\n  FullTrack(album, artists, available_markets, disc_number, ...)\n  FullTrack(album, artists, available_markets, disc_number, ...)\n  FullTrack(album, artists, available_markets, disc_number, ...)\n  FullTrack(album, artists, available_markets, disc_number, ...)\n  FullTrack(album, artists, available_markets, disc_number, ...)\n  FullTrack(album, artists, available_markets, disc_number, ...)\n  FullTrack(album, artists, available_markets, disc_number, ...)\n  FullTrack(album, artists, available_markets, disc_number, ...)\n  FullTrack(album, artists, available_markets, disc_number, ...)\n  FullTrack(album, artists, available_markets, disc_number, ...)\n  FullTrack(album, artists, available_markets, disc_number, ...)\n  FullTrack(album, artists, available_markets, disc_number, ...)\n  FullTrack(album, artists, available_markets, disc_number, ...)\n  FullTrack(album, artists, available_markets, disc_number, ...)\n  FullTrack(album, artists, available_markets, disc_number, ...)\n  FullTrack(album, artists, available_markets, disc_number, ...)\n  FullTrack(album, artists, available_markets, disc_number, ...)\n  FullTrack(album, artists, available_markets, disc_number, ...)\n  FullTrack(album, artists, available_markets, disc_number, ...)\n  FullTrack(album, artists, available_markets, disc_number, ...)\n  FullTrack(album, artists, available_markets, disc_number, ...)\n  FullTrack(album, artists, available_markets, disc_number, ...)\n  FullTrack(album, artists, available_markets, disc_number, ...)\n  FullTrack(album, artists, available_markets, disc_number, ...)\n  FullTrack(album, artists, available_markets, disc_number, ...)\n  FullTrack(album, artists, available_markets, disc_number, ...)\n  FullTrack(album, artists, available_markets, disc_number, ...)\n  FullTrack(album, artists, available_markets, disc_number, ...)\n  FullTrack(album, artists, available_markets, disc_number, ...)\n  FullTrack(album, artists, available_markets, disc_number, ...)\n]"
     },
     "execution_count": 3,
     "metadata": {},
     "output_type": "execute_result"
    }
   ],
   "source": [
    "from project.random_track import RandomTrack\n",
    "\n",
    "rndTrack = RandomTrack(spotify, cred)\n",
    "tracks = rndTrack.random_tracks()\n",
    "for track in tracks:\n",
    "    print(track.name)"
   ],
   "metadata": {
    "collapsed": false
   }
  },
  {
   "cell_type": "code",
   "execution_count": 6,
   "outputs": [],
   "source": [],
   "metadata": {
    "collapsed": false
   }
  }
 ],
 "metadata": {
  "kernelspec": {
   "display_name": "Python 3",
   "language": "python",
   "name": "python3"
  },
  "language_info": {
   "codemirror_mode": {
    "name": "ipython",
    "version": 2
   },
   "file_extension": ".py",
   "mimetype": "text/x-python",
   "name": "python",
   "nbconvert_exporter": "python",
   "pygments_lexer": "ipython2",
   "version": "2.7.6"
  }
 },
 "nbformat": 4,
 "nbformat_minor": 0
}
