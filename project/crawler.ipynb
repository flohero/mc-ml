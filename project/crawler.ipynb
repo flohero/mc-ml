{
 "cells": [
  {
   "cell_type": "markdown",
   "source": [
    "# Server"
   ],
   "metadata": {
    "collapsed": false
   }
  },
  {
   "cell_type": "code",
   "execution_count": 3,
   "metadata": {
    "collapsed": true
   },
   "outputs": [
    {
     "name": "stderr",
     "output_type": "stream",
     "text": [
      "\u001B[31m\u001B[1mWARNING: This is a development server. Do not use it in a production deployment. Use a production WSGI server instead.\u001B[0m\n",
      " * Running on http://127.0.0.1:5000\n",
      "\u001B[33mPress CTRL+C to quit\u001B[0m\n",
      "127.0.0.1 - - [07/Jan/2023 18:47:18] \"\u001B[32mGET /login HTTP/1.1\u001B[0m\" 307 -\n"
     ]
    }
   ],
   "source": [
    "import tekore as tk\n",
    "from dotenv import load_dotenv\n",
    "\n",
    "from authentication.spotify_server import SpotifyServer\n",
    "\n",
    "load_dotenv()\n",
    "\n",
    "conf = tk.config_from_environment()\n",
    "cred = tk.Credentials(*conf)\n",
    "spotify = tk.Spotify()\n",
    "host = '127.0.0.1'\n",
    "port = 5000\n",
    "\n",
    "# Multiprocessing\n",
    "app = SpotifyServer(host, port, spotify, cred)\n",
    "token = app.spawn_single_use_server()\n",
    "spotify.token = token"
   ]
  },
  {
   "cell_type": "markdown",
   "source": [
    "# Spotify API"
   ],
   "metadata": {
    "collapsed": false
   }
  },
  {
   "cell_type": "code",
   "execution_count": 4,
   "outputs": [],
   "source": [
    "spotify.token = cred.refresh(spotify.token)"
   ],
   "metadata": {
    "collapsed": false
   }
  },
  {
   "cell_type": "code",
   "execution_count": 5,
   "outputs": [
    {
     "name": "stdout",
     "output_type": "stream",
     "text": [
      "Quevedo: Bzrp Music Sessions, Vol. 52\n",
      "Quédate - Tiësto Remix\n",
      "Dancing Queen\n",
      "Another One Bites The Dust - Remastered 2011\n",
      "Se Voce Nao Quer Passa a Vez\n",
      "Quit Playing Games (With My Heart)\n",
      "Bohemian Rhapsody - Remastered 2011\n",
      "Don't Stop Me Now - Remastered 2011\n",
      "Quintet for Piano, Oboe, Clarinet, Horn, and Bassoon in E Flat Major, K. 452: Allegro moderato\n",
      "Quintet for Piano, Oboe, Clarinet, Horn, and Bassoon in E Flat Major, K. 452: 3. Allegretto\n",
      "Quintet for Piano, Oboe, Clarinet, Horn, and Bassoon in E Flat Major, K. 452: 2. Larghetto\n",
      "Quintet for Piano, Oboe, Clarinet, Horn, and Bassoon in E Flat Major, K. 452: 1. Largo -\n",
      "Quattro\n",
      "Thank God It's Christmas\n",
      "Qa bone\n",
      "Quechua\n",
      "Quick Musical Doodles\n",
      "Quick Changements (Sonata in C)\n",
      "Under Pressure - Remastered 2011\n",
      "Quarantine Blues\n",
      "CUFF IT\n",
      "Quickie\n",
      "Kings & Queens\n",
      "Thank God It's Christmas - Non-Album Single\n",
      "Quiver\n",
      "QUARTER LIFE CRISIS\n",
      "HOTEL LOBBY (Unc & Phew)\n",
      "Questions\n",
      "Quietly Yours\n",
      "Quand vous souriez\n",
      "Quieres\n",
      "Dreamers [Music from the FIFA World Cup Qatar 2022 Official Soundtrack]\n",
      "Qué Más Pues?\n",
      "Let It Snow! Let It Snow! Let It Snow! (with The B. Swanson Quartet)\n",
      "Question...?\n",
      "Qetsia Piano\n",
      "J’comprends pas\n",
      "Quite Miss Home\n",
      "QUE PRETENDES\n",
      "Quiero Volver\n",
      "Que Tire Pa Lante\n",
      "The Joker and the Queen\n",
      "Qué Más Pues?\n",
      "Qué Más Pues?\n",
      "Qué Más Pues?\n",
      "The Joker and the Queen\n",
      "The Joker and the Queen\n",
      "VACAXIONES\n",
      "Belixe\n",
      "Nieve - Benny Benassi Remix\n"
     ]
    }
   ],
   "source": [
    "from project.random_track import RandomTrack\n",
    "\n",
    "rndTrack = RandomTrack(spotify, cred)\n",
    "tracks = rndTrack.random_tracks()\n",
    "for track in tracks:\n",
    "    print(track.name)"
   ],
   "metadata": {
    "collapsed": false
   }
  },
  {
   "cell_type": "code",
   "execution_count": 6,
   "outputs": [
    {
     "data": {
      "text/plain": "[FullArtist with fields:\n   external_urls = {'spotify'}\n   followers = Followers(href, total)\n   genres = [5 x str]\n   href = 'https://api.spotify.com/v1/artists/716NhGYqD1jl2wI1Qkgq36'\n   id = '716NhGYqD1jl2wI1Qkgq36'\n   images = [3 x Image(height, url, width)]\n   name = 'Bizarrap'\n   popularity = 86\n   type = 'artist'\n   uri = 'spotify:artist:716NhGYqD1jl2wI1Qkgq36',\n FullArtist with fields:\n   external_urls = {'spotify'}\n   followers = Followers(href, total)\n   genres = [2 x str]\n   href = 'https://api.spotify.com/v1/artists/52iwsT98xCoGgiGntTiR7K'\n   id = '52iwsT98xCoGgiGntTiR7K'\n   images = [3 x Image(height, url, width)]\n   name = 'Quevedo'\n   popularity = 87\n   type = 'artist'\n   uri = 'spotify:artist:52iwsT98xCoGgiGntTiR7K',\n FullArtist with fields:\n   external_urls = {'spotify'}\n   followers = Followers(href, total)\n   genres = [5 x str]\n   href = 'https://api.spotify.com/v1/artists/716NhGYqD1jl2wI1Qkgq36'\n   id = '716NhGYqD1jl2wI1Qkgq36'\n   images = [3 x Image(height, url, width)]\n   name = 'Bizarrap'\n   popularity = 86\n   type = 'artist'\n   uri = 'spotify:artist:716NhGYqD1jl2wI1Qkgq36',\n FullArtist with fields:\n   external_urls = {'spotify'}\n   followers = Followers(href, total)\n   genres = [10 x str]\n   href = 'https://api.spotify.com/v1/artists/2o5jDhtHVPhrJdv3cEQ99Z'\n   id = '2o5jDhtHVPhrJdv3cEQ99Z'\n   images = [3 x Image(height, url, width)]\n   name = 'Tiësto'\n   popularity = 84\n   type = 'artist'\n   uri = 'spotify:artist:2o5jDhtHVPhrJdv3cEQ99Z',\n FullArtist with fields:\n   external_urls = {'spotify'}\n   followers = Followers(href, total)\n   genres = [2 x str]\n   href = 'https://api.spotify.com/v1/artists/0LcJLqbBmaGUft1e9Mm8HV'\n   id = '0LcJLqbBmaGUft1e9Mm8HV'\n   images = [3 x Image(height, url, width)]\n   name = 'ABBA'\n   popularity = 81\n   type = 'artist'\n   uri = 'spotify:artist:0LcJLqbBmaGUft1e9Mm8HV',\n FullArtist with fields:\n   external_urls = {'spotify'}\n   followers = Followers(href, total)\n   genres = [3 x str]\n   href = 'https://api.spotify.com/v1/artists/1dfeR4HaWDbWqFHLkxsg1d'\n   id = '1dfeR4HaWDbWqFHLkxsg1d'\n   images = [4 x Image(height, url, width)]\n   name = 'Queen'\n   popularity = 86\n   type = 'artist'\n   uri = 'spotify:artist:1dfeR4HaWDbWqFHLkxsg1d',\n FullArtist with fields:\n   external_urls = {'spotify'}\n   followers = Followers(href, total)\n   genres = [3 x str]\n   href = 'https://api.spotify.com/v1/artists/3l4fsEzoeabsET7ddv0lZW'\n   id = '3l4fsEzoeabsET7ddv0lZW'\n   images = [3 x Image(height, url, width)]\n   name = 'Mc Delux'\n   popularity = 70\n   type = 'artist'\n   uri = 'spotify:artist:3l4fsEzoeabsET7ddv0lZW',\n FullArtist with fields:\n   external_urls = {'spotify'}\n   followers = Followers(href, total)\n   genres = [2 x str]\n   href = 'https://api.spotify.com/v1/artists/0rb23mC6LLZ3o15qcdSzjx'\n   id = '0rb23mC6LLZ3o15qcdSzjx'\n   images = [3 x Image(height, url, width)]\n   name = 'DJ Guih Da ZO'\n   popularity = 64\n   type = 'artist'\n   uri = 'spotify:artist:0rb23mC6LLZ3o15qcdSzjx',\n FullArtist with fields:\n   external_urls = {'spotify'}\n   followers = Followers(href, total)\n   genres = [2 x str]\n   href = 'https://api.spotify.com/v1/artists/5rSXSAkZ67PYJSvpUpkOr7'\n   id = '5rSXSAkZ67PYJSvpUpkOr7'\n   images = [3 x Image(height, url, width)]\n   name = 'Backstreet Boys'\n   popularity = 77\n   type = 'artist'\n   uri = 'spotify:artist:5rSXSAkZ67PYJSvpUpkOr7',\n FullArtist with fields:\n   external_urls = {'spotify'}\n   followers = Followers(href, total)\n   genres = [3 x str]\n   href = 'https://api.spotify.com/v1/artists/1dfeR4HaWDbWqFHLkxsg1d'\n   id = '1dfeR4HaWDbWqFHLkxsg1d'\n   images = [4 x Image(height, url, width)]\n   name = 'Queen'\n   popularity = 86\n   type = 'artist'\n   uri = 'spotify:artist:1dfeR4HaWDbWqFHLkxsg1d',\n FullArtist with fields:\n   external_urls = {'spotify'}\n   followers = Followers(href, total)\n   genres = [3 x str]\n   href = 'https://api.spotify.com/v1/artists/1dfeR4HaWDbWqFHLkxsg1d'\n   id = '1dfeR4HaWDbWqFHLkxsg1d'\n   images = [4 x Image(height, url, width)]\n   name = 'Queen'\n   popularity = 86\n   type = 'artist'\n   uri = 'spotify:artist:1dfeR4HaWDbWqFHLkxsg1d',\n FullArtist with fields:\n   external_urls = {'spotify'}\n   followers = Followers(href, total)\n   genres = [2 x str]\n   href = 'https://api.spotify.com/v1/artists/4NJhFmfw43RLBLjQvxDuRS'\n   id = '4NJhFmfw43RLBLjQvxDuRS'\n   images = [3 x Image(height, url, width)]\n   name = 'Wolfgang Amadeus Mozart'\n   popularity = 75\n   type = 'artist'\n   uri = 'spotify:artist:4NJhFmfw43RLBLjQvxDuRS',\n FullArtist with fields:\n   external_urls = {'spotify'}\n   followers = Followers(href, total)\n   genres = [4 x str]\n   href = 'https://api.spotify.com/v1/artists/606pshIhidPHebEaDWSXDe'\n   id = '606pshIhidPHebEaDWSXDe'\n   images = [4 x Image(height, url, width)]\n   name = 'Mitsuko Uchida'\n   popularity = 48\n   type = 'artist'\n   uri = 'spotify:artist:606pshIhidPHebEaDWSXDe',\n FullArtist with fields:\n   external_urls = {'spotify'}\n   followers = Followers(href, total)\n   genres = [1 x str]\n   href = 'https://api.spotify.com/v1/artists/7uuaFrkQb0ZGbCMRsBc5Kz'\n   id = '7uuaFrkQb0ZGbCMRsBc5Kz'\n   images = [3 x Image(height, url, width)]\n   name = 'Neil Black'\n   popularity = 28\n   type = 'artist'\n   uri = 'spotify:artist:7uuaFrkQb0ZGbCMRsBc5Kz',\n FullArtist with fields:\n   external_urls = {'spotify'}\n   followers = Followers(href, total)\n   genres = [1 x str]\n   href = 'https://api.spotify.com/v1/artists/3unJkoTTz870AtGe78jTjx'\n   id = '3unJkoTTz870AtGe78jTjx'\n   images = [2 x Image(height, url, width)]\n   name = 'Thea King'\n   popularity = 11\n   type = 'artist'\n   uri = 'spotify:artist:3unJkoTTz870AtGe78jTjx',\n FullArtist with fields:\n   external_urls = {'spotify'}\n   followers = Followers(href, total)\n   genres = [1 x str]\n   href = 'https://api.spotify.com/v1/artists/3DCJ5uLWbNBu14Ug1OHvf0'\n   id = '3DCJ5uLWbNBu14Ug1OHvf0'\n   images = [3 x Image(height, url, width)]\n   name = 'Frank Lloyd'\n   popularity = 10\n   type = 'artist'\n   uri = 'spotify:artist:3DCJ5uLWbNBu14Ug1OHvf0',\n FullArtist with fields:\n   external_urls = {'spotify'}\n   followers = Followers(href, total)\n   genres = [0 x str]\n   href = 'https://api.spotify.com/v1/artists/1tnXxKPEvcEZbdpueRtuVF'\n   id = '1tnXxKPEvcEZbdpueRtuVF'\n   images = [3 x Image(height, url, width)]\n   name = 'Robin O'Neill'\n   popularity = 11\n   type = 'artist'\n   uri = 'spotify:artist:1tnXxKPEvcEZbdpueRtuVF',\n FullArtist with fields:\n   external_urls = {'spotify'}\n   followers = Followers(href, total)\n   genres = [2 x str]\n   href = 'https://api.spotify.com/v1/artists/4NJhFmfw43RLBLjQvxDuRS'\n   id = '4NJhFmfw43RLBLjQvxDuRS'\n   images = [3 x Image(height, url, width)]\n   name = 'Wolfgang Amadeus Mozart'\n   popularity = 75\n   type = 'artist'\n   uri = 'spotify:artist:4NJhFmfw43RLBLjQvxDuRS',\n FullArtist with fields:\n   external_urls = {'spotify'}\n   followers = Followers(href, total)\n   genres = [4 x str]\n   href = 'https://api.spotify.com/v1/artists/606pshIhidPHebEaDWSXDe'\n   id = '606pshIhidPHebEaDWSXDe'\n   images = [4 x Image(height, url, width)]\n   name = 'Mitsuko Uchida'\n   popularity = 48\n   type = 'artist'\n   uri = 'spotify:artist:606pshIhidPHebEaDWSXDe',\n FullArtist with fields:\n   external_urls = {'spotify'}\n   followers = Followers(href, total)\n   genres = [1 x str]\n   href = 'https://api.spotify.com/v1/artists/7uuaFrkQb0ZGbCMRsBc5Kz'\n   id = '7uuaFrkQb0ZGbCMRsBc5Kz'\n   images = [3 x Image(height, url, width)]\n   name = 'Neil Black'\n   popularity = 28\n   type = 'artist'\n   uri = 'spotify:artist:7uuaFrkQb0ZGbCMRsBc5Kz',\n FullArtist with fields:\n   external_urls = {'spotify'}\n   followers = Followers(href, total)\n   genres = [1 x str]\n   href = 'https://api.spotify.com/v1/artists/3unJkoTTz870AtGe78jTjx'\n   id = '3unJkoTTz870AtGe78jTjx'\n   images = [2 x Image(height, url, width)]\n   name = 'Thea King'\n   popularity = 11\n   type = 'artist'\n   uri = 'spotify:artist:3unJkoTTz870AtGe78jTjx',\n FullArtist with fields:\n   external_urls = {'spotify'}\n   followers = Followers(href, total)\n   genres = [1 x str]\n   href = 'https://api.spotify.com/v1/artists/3DCJ5uLWbNBu14Ug1OHvf0'\n   id = '3DCJ5uLWbNBu14Ug1OHvf0'\n   images = [3 x Image(height, url, width)]\n   name = 'Frank Lloyd'\n   popularity = 10\n   type = 'artist'\n   uri = 'spotify:artist:3DCJ5uLWbNBu14Ug1OHvf0',\n FullArtist with fields:\n   external_urls = {'spotify'}\n   followers = Followers(href, total)\n   genres = [0 x str]\n   href = 'https://api.spotify.com/v1/artists/1tnXxKPEvcEZbdpueRtuVF'\n   id = '1tnXxKPEvcEZbdpueRtuVF'\n   images = [3 x Image(height, url, width)]\n   name = 'Robin O'Neill'\n   popularity = 11\n   type = 'artist'\n   uri = 'spotify:artist:1tnXxKPEvcEZbdpueRtuVF',\n FullArtist with fields:\n   external_urls = {'spotify'}\n   followers = Followers(href, total)\n   genres = [2 x str]\n   href = 'https://api.spotify.com/v1/artists/4NJhFmfw43RLBLjQvxDuRS'\n   id = '4NJhFmfw43RLBLjQvxDuRS'\n   images = [3 x Image(height, url, width)]\n   name = 'Wolfgang Amadeus Mozart'\n   popularity = 75\n   type = 'artist'\n   uri = 'spotify:artist:4NJhFmfw43RLBLjQvxDuRS',\n FullArtist with fields:\n   external_urls = {'spotify'}\n   followers = Followers(href, total)\n   genres = [4 x str]\n   href = 'https://api.spotify.com/v1/artists/606pshIhidPHebEaDWSXDe'\n   id = '606pshIhidPHebEaDWSXDe'\n   images = [4 x Image(height, url, width)]\n   name = 'Mitsuko Uchida'\n   popularity = 48\n   type = 'artist'\n   uri = 'spotify:artist:606pshIhidPHebEaDWSXDe',\n FullArtist with fields:\n   external_urls = {'spotify'}\n   followers = Followers(href, total)\n   genres = [1 x str]\n   href = 'https://api.spotify.com/v1/artists/7uuaFrkQb0ZGbCMRsBc5Kz'\n   id = '7uuaFrkQb0ZGbCMRsBc5Kz'\n   images = [3 x Image(height, url, width)]\n   name = 'Neil Black'\n   popularity = 28\n   type = 'artist'\n   uri = 'spotify:artist:7uuaFrkQb0ZGbCMRsBc5Kz',\n FullArtist with fields:\n   external_urls = {'spotify'}\n   followers = Followers(href, total)\n   genres = [1 x str]\n   href = 'https://api.spotify.com/v1/artists/3unJkoTTz870AtGe78jTjx'\n   id = '3unJkoTTz870AtGe78jTjx'\n   images = [2 x Image(height, url, width)]\n   name = 'Thea King'\n   popularity = 11\n   type = 'artist'\n   uri = 'spotify:artist:3unJkoTTz870AtGe78jTjx',\n FullArtist with fields:\n   external_urls = {'spotify'}\n   followers = Followers(href, total)\n   genres = [1 x str]\n   href = 'https://api.spotify.com/v1/artists/3DCJ5uLWbNBu14Ug1OHvf0'\n   id = '3DCJ5uLWbNBu14Ug1OHvf0'\n   images = [3 x Image(height, url, width)]\n   name = 'Frank Lloyd'\n   popularity = 10\n   type = 'artist'\n   uri = 'spotify:artist:3DCJ5uLWbNBu14Ug1OHvf0',\n FullArtist with fields:\n   external_urls = {'spotify'}\n   followers = Followers(href, total)\n   genres = [0 x str]\n   href = 'https://api.spotify.com/v1/artists/1tnXxKPEvcEZbdpueRtuVF'\n   id = '1tnXxKPEvcEZbdpueRtuVF'\n   images = [3 x Image(height, url, width)]\n   name = 'Robin O'Neill'\n   popularity = 11\n   type = 'artist'\n   uri = 'spotify:artist:1tnXxKPEvcEZbdpueRtuVF',\n FullArtist with fields:\n   external_urls = {'spotify'}\n   followers = Followers(href, total)\n   genres = [2 x str]\n   href = 'https://api.spotify.com/v1/artists/4NJhFmfw43RLBLjQvxDuRS'\n   id = '4NJhFmfw43RLBLjQvxDuRS'\n   images = [3 x Image(height, url, width)]\n   name = 'Wolfgang Amadeus Mozart'\n   popularity = 75\n   type = 'artist'\n   uri = 'spotify:artist:4NJhFmfw43RLBLjQvxDuRS',\n FullArtist with fields:\n   external_urls = {'spotify'}\n   followers = Followers(href, total)\n   genres = [4 x str]\n   href = 'https://api.spotify.com/v1/artists/606pshIhidPHebEaDWSXDe'\n   id = '606pshIhidPHebEaDWSXDe'\n   images = [4 x Image(height, url, width)]\n   name = 'Mitsuko Uchida'\n   popularity = 48\n   type = 'artist'\n   uri = 'spotify:artist:606pshIhidPHebEaDWSXDe',\n FullArtist with fields:\n   external_urls = {'spotify'}\n   followers = Followers(href, total)\n   genres = [1 x str]\n   href = 'https://api.spotify.com/v1/artists/7uuaFrkQb0ZGbCMRsBc5Kz'\n   id = '7uuaFrkQb0ZGbCMRsBc5Kz'\n   images = [3 x Image(height, url, width)]\n   name = 'Neil Black'\n   popularity = 28\n   type = 'artist'\n   uri = 'spotify:artist:7uuaFrkQb0ZGbCMRsBc5Kz',\n FullArtist with fields:\n   external_urls = {'spotify'}\n   followers = Followers(href, total)\n   genres = [1 x str]\n   href = 'https://api.spotify.com/v1/artists/3unJkoTTz870AtGe78jTjx'\n   id = '3unJkoTTz870AtGe78jTjx'\n   images = [2 x Image(height, url, width)]\n   name = 'Thea King'\n   popularity = 11\n   type = 'artist'\n   uri = 'spotify:artist:3unJkoTTz870AtGe78jTjx',\n FullArtist with fields:\n   external_urls = {'spotify'}\n   followers = Followers(href, total)\n   genres = [1 x str]\n   href = 'https://api.spotify.com/v1/artists/3DCJ5uLWbNBu14Ug1OHvf0'\n   id = '3DCJ5uLWbNBu14Ug1OHvf0'\n   images = [3 x Image(height, url, width)]\n   name = 'Frank Lloyd'\n   popularity = 10\n   type = 'artist'\n   uri = 'spotify:artist:3DCJ5uLWbNBu14Ug1OHvf0',\n FullArtist with fields:\n   external_urls = {'spotify'}\n   followers = Followers(href, total)\n   genres = [0 x str]\n   href = 'https://api.spotify.com/v1/artists/1tnXxKPEvcEZbdpueRtuVF'\n   id = '1tnXxKPEvcEZbdpueRtuVF'\n   images = [3 x Image(height, url, width)]\n   name = 'Robin O'Neill'\n   popularity = 11\n   type = 'artist'\n   uri = 'spotify:artist:1tnXxKPEvcEZbdpueRtuVF',\n FullArtist with fields:\n   external_urls = {'spotify'}\n   followers = Followers(href, total)\n   genres = [1 x str]\n   href = 'https://api.spotify.com/v1/artists/71Fwag5Tn4ldB6GcfjApHQ'\n   id = '71Fwag5Tn4ldB6GcfjApHQ'\n   images = [3 x Image(height, url, width)]\n   name = 'Herbert Pixner Projekt'\n   popularity = 43\n   type = 'artist'\n   uri = 'spotify:artist:71Fwag5Tn4ldB6GcfjApHQ',\n FullArtist with fields:\n   external_urls = {'spotify'}\n   followers = Followers(href, total)\n   genres = [3 x str]\n   href = 'https://api.spotify.com/v1/artists/1dfeR4HaWDbWqFHLkxsg1d'\n   id = '1dfeR4HaWDbWqFHLkxsg1d'\n   images = [4 x Image(height, url, width)]\n   name = 'Queen'\n   popularity = 86\n   type = 'artist'\n   uri = 'spotify:artist:1dfeR4HaWDbWqFHLkxsg1d',\n FullArtist with fields:\n   external_urls = {'spotify'}\n   followers = Followers(href, total)\n   genres = [2 x str]\n   href = 'https://api.spotify.com/v1/artists/39KEQQAG9JhIt71g9NEVhh'\n   id = '39KEQQAG9JhIt71g9NEVhh'\n   images = [3 x Image(height, url, width)]\n   name = 'Azet'\n   popularity = 66\n   type = 'artist'\n   uri = 'spotify:artist:39KEQQAG9JhIt71g9NEVhh',\n FullArtist with fields:\n   external_urls = {'spotify'}\n   followers = Followers(href, total)\n   genres = [1 x str]\n   href = 'https://api.spotify.com/v1/artists/0Dvx6p8JDyzeOPGmaCIH1L'\n   id = '0Dvx6p8JDyzeOPGmaCIH1L'\n   images = [3 x Image(height, url, width)]\n   name = 'RAF Camora'\n   popularity = 77\n   type = 'artist'\n   uri = 'spotify:artist:0Dvx6p8JDyzeOPGmaCIH1L',\n FullArtist with fields:\n   external_urls = {'spotify'}\n   followers = Followers(href, total)\n   genres = [7 x str]\n   href = 'https://api.spotify.com/v1/artists/1V3VTM7VspiQjcmRhC010n'\n   id = '1V3VTM7VspiQjcmRhC010n'\n   images = [3 x Image(height, url, width)]\n   name = 'Quintino'\n   popularity = 60\n   type = 'artist'\n   uri = 'spotify:artist:1V3VTM7VspiQjcmRhC010n',\n FullArtist with fields:\n   external_urls = {'spotify'}\n   followers = Followers(href, total)\n   genres = [9 x str]\n   href = 'https://api.spotify.com/v1/artists/1XLjkBxFokuDTlHt0mQkRe'\n   id = '1XLjkBxFokuDTlHt0mQkRe'\n   images = [3 x Image(height, url, width)]\n   name = 'Thomas Gold'\n   popularity = 50\n   type = 'artist'\n   uri = 'spotify:artist:1XLjkBxFokuDTlHt0mQkRe',\n FullArtist with fields:\n   external_urls = {'spotify'}\n   followers = Followers(href, total)\n   genres = [2 x str]\n   href = 'https://api.spotify.com/v1/artists/5sWHDYs0csV6RS48xBl0tH'\n   id = '5sWHDYs0csV6RS48xBl0tH'\n   images = [3 x Image(height, url, width)]\n   name = 'Two Feet'\n   popularity = 72\n   type = 'artist'\n   uri = 'spotify:artist:5sWHDYs0csV6RS48xBl0tH',\n FullArtist with fields:\n   external_urls = {'spotify'}\n   followers = Followers(href, total)\n   genres = [1 x str]\n   href = 'https://api.spotify.com/v1/artists/5LDnZtMSHIoJ8oElgoiCg6'\n   id = '5LDnZtMSHIoJ8oElgoiCg6'\n   images = [3 x Image(height, url, width)]\n   name = 'Steven Mitchell'\n   popularity = 29\n   type = 'artist'\n   uri = 'spotify:artist:5LDnZtMSHIoJ8oElgoiCg6',\n FullArtist with fields:\n   external_urls = {'spotify'}\n   followers = Followers(href, total)\n   genres = [3 x str]\n   href = 'https://api.spotify.com/v1/artists/1dfeR4HaWDbWqFHLkxsg1d'\n   id = '1dfeR4HaWDbWqFHLkxsg1d'\n   images = [4 x Image(height, url, width)]\n   name = 'Queen'\n   popularity = 86\n   type = 'artist'\n   uri = 'spotify:artist:1dfeR4HaWDbWqFHLkxsg1d',\n FullArtist with fields:\n   external_urls = {'spotify'}\n   followers = Followers(href, total)\n   genres = [5 x str]\n   href = 'https://api.spotify.com/v1/artists/0oSGxfWSnnOXhD2fKuz2Gy'\n   id = '0oSGxfWSnnOXhD2fKuz2Gy'\n   images = [3 x Image(height, url, width)]\n   name = 'David Bowie'\n   popularity = 78\n   type = 'artist'\n   uri = 'spotify:artist:0oSGxfWSnnOXhD2fKuz2Gy',\n FullArtist with fields:\n   external_urls = {'spotify'}\n   followers = Followers(href, total)\n   genres = [0 x str]\n   href = 'https://api.spotify.com/v1/artists/7CWhYHarAP866A8KALPMY0'\n   id = '7CWhYHarAP866A8KALPMY0'\n   images = [3 x Image(height, url, width)]\n   name = 'Grey Shorts'\n   popularity = 18\n   type = 'artist'\n   uri = 'spotify:artist:7CWhYHarAP866A8KALPMY0',\n FullArtist with fields:\n   external_urls = {'spotify'}\n   followers = Followers(href, total)\n   genres = [3 x str]\n   href = 'https://api.spotify.com/v1/artists/6vWDO969PvNqNYHIOW5v0m'\n   id = '6vWDO969PvNqNYHIOW5v0m'\n   images = [3 x Image(height, url, width)]\n   name = 'Beyoncé'\n   popularity = 87\n   type = 'artist'\n   uri = 'spotify:artist:6vWDO969PvNqNYHIOW5v0m',\n FullArtist with fields:\n   external_urls = {'spotify'}\n   followers = Followers(href, total)\n   genres = [6 x str]\n   href = 'https://api.spotify.com/v1/artists/3tJoFztHeIJkJWMrx0td2f'\n   id = '3tJoFztHeIJkJWMrx0td2f'\n   images = [3 x Image(height, url, width)]\n   name = 'Moneybagg Yo'\n   popularity = 77\n   type = 'artist'\n   uri = 'spotify:artist:3tJoFztHeIJkJWMrx0td2f',\n FullArtist with fields:\n   external_urls = {'spotify'}\n   followers = Followers(href, total)\n   genres = [2 x str]\n   href = 'https://api.spotify.com/v1/artists/4npEfmQ6YuiwW1GpUmaq3F'\n   id = '4npEfmQ6YuiwW1GpUmaq3F'\n   images = [3 x Image(height, url, width)]\n   name = 'Ava Max'\n   popularity = 82\n   type = 'artist'\n   uri = 'spotify:artist:4npEfmQ6YuiwW1GpUmaq3F',\n FullArtist with fields:\n   external_urls = {'spotify'}\n   followers = Followers(href, total)\n   genres = [3 x str]\n   href = 'https://api.spotify.com/v1/artists/1dfeR4HaWDbWqFHLkxsg1d'\n   id = '1dfeR4HaWDbWqFHLkxsg1d'\n   images = [4 x Image(height, url, width)]\n   name = 'Queen'\n   popularity = 86\n   type = 'artist'\n   uri = 'spotify:artist:1dfeR4HaWDbWqFHLkxsg1d',\n FullArtist with fields:\n   external_urls = {'spotify'}\n   followers = Followers(href, total)\n   genres = [2 x str]\n   href = 'https://api.spotify.com/v1/artists/52iwsT98xCoGgiGntTiR7K'\n   id = '52iwsT98xCoGgiGntTiR7K'\n   images = [3 x Image(height, url, width)]\n   name = 'Quevedo'\n   popularity = 87\n   type = 'artist'\n   uri = 'spotify:artist:52iwsT98xCoGgiGntTiR7K',\n FullArtist with fields:\n   external_urls = {'spotify'}\n   followers = Followers(href, total)\n   genres = [5 x str]\n   href = 'https://api.spotify.com/v1/artists/716NhGYqD1jl2wI1Qkgq36'\n   id = '716NhGYqD1jl2wI1Qkgq36'\n   images = [3 x Image(height, url, width)]\n   name = 'Bizarrap'\n   popularity = 86\n   type = 'artist'\n   uri = 'spotify:artist:716NhGYqD1jl2wI1Qkgq36',\n FullArtist with fields:\n   external_urls = {'spotify'}\n   followers = Followers(href, total)\n   genres = [10 x str]\n   href = 'https://api.spotify.com/v1/artists/2o5jDhtHVPhrJdv3cEQ99Z'\n   id = '2o5jDhtHVPhrJdv3cEQ99Z'\n   images = [3 x Image(height, url, width)]\n   name = 'Tiësto'\n   popularity = 84\n   type = 'artist'\n   uri = 'spotify:artist:2o5jDhtHVPhrJdv3cEQ99Z',\n FullArtist with fields:\n   external_urls = {'spotify'}\n   followers = Followers(href, total)\n   genres = [2 x str]\n   href = 'https://api.spotify.com/v1/artists/0LcJLqbBmaGUft1e9Mm8HV'\n   id = '0LcJLqbBmaGUft1e9Mm8HV'\n   images = [3 x Image(height, url, width)]\n   name = 'ABBA'\n   popularity = 81\n   type = 'artist'\n   uri = 'spotify:artist:0LcJLqbBmaGUft1e9Mm8HV',\n FullArtist with fields:\n   external_urls = {'spotify'}\n   followers = Followers(href, total)\n   genres = [3 x str]\n   href = 'https://api.spotify.com/v1/artists/1dfeR4HaWDbWqFHLkxsg1d'\n   id = '1dfeR4HaWDbWqFHLkxsg1d'\n   images = [4 x Image(height, url, width)]\n   name = 'Queen'\n   popularity = 86\n   type = 'artist'\n   uri = 'spotify:artist:1dfeR4HaWDbWqFHLkxsg1d',\n FullArtist with fields:\n   external_urls = {'spotify'}\n   followers = Followers(href, total)\n   genres = [3 x str]\n   href = 'https://api.spotify.com/v1/artists/3l4fsEzoeabsET7ddv0lZW'\n   id = '3l4fsEzoeabsET7ddv0lZW'\n   images = [3 x Image(height, url, width)]\n   name = 'Mc Delux'\n   popularity = 70\n   type = 'artist'\n   uri = 'spotify:artist:3l4fsEzoeabsET7ddv0lZW',\n FullArtist with fields:\n   external_urls = {'spotify'}\n   followers = Followers(href, total)\n   genres = [2 x str]\n   href = 'https://api.spotify.com/v1/artists/0rb23mC6LLZ3o15qcdSzjx'\n   id = '0rb23mC6LLZ3o15qcdSzjx'\n   images = [3 x Image(height, url, width)]\n   name = 'DJ Guih Da ZO'\n   popularity = 64\n   type = 'artist'\n   uri = 'spotify:artist:0rb23mC6LLZ3o15qcdSzjx',\n FullArtist with fields:\n   external_urls = {'spotify'}\n   followers = Followers(href, total)\n   genres = [2 x str]\n   href = 'https://api.spotify.com/v1/artists/5rSXSAkZ67PYJSvpUpkOr7'\n   id = '5rSXSAkZ67PYJSvpUpkOr7'\n   images = [3 x Image(height, url, width)]\n   name = 'Backstreet Boys'\n   popularity = 77\n   type = 'artist'\n   uri = 'spotify:artist:5rSXSAkZ67PYJSvpUpkOr7',\n FullArtist with fields:\n   external_urls = {'spotify'}\n   followers = Followers(href, total)\n   genres = [3 x str]\n   href = 'https://api.spotify.com/v1/artists/1dfeR4HaWDbWqFHLkxsg1d'\n   id = '1dfeR4HaWDbWqFHLkxsg1d'\n   images = [4 x Image(height, url, width)]\n   name = 'Queen'\n   popularity = 86\n   type = 'artist'\n   uri = 'spotify:artist:1dfeR4HaWDbWqFHLkxsg1d',\n FullArtist with fields:\n   external_urls = {'spotify'}\n   followers = Followers(href, total)\n   genres = [3 x str]\n   href = 'https://api.spotify.com/v1/artists/1dfeR4HaWDbWqFHLkxsg1d'\n   id = '1dfeR4HaWDbWqFHLkxsg1d'\n   images = [4 x Image(height, url, width)]\n   name = 'Queen'\n   popularity = 86\n   type = 'artist'\n   uri = 'spotify:artist:1dfeR4HaWDbWqFHLkxsg1d',\n FullArtist with fields:\n   external_urls = {'spotify'}\n   followers = Followers(href, total)\n   genres = [2 x str]\n   href = 'https://api.spotify.com/v1/artists/4NJhFmfw43RLBLjQvxDuRS'\n   id = '4NJhFmfw43RLBLjQvxDuRS'\n   images = [3 x Image(height, url, width)]\n   name = 'Wolfgang Amadeus Mozart'\n   popularity = 75\n   type = 'artist'\n   uri = 'spotify:artist:4NJhFmfw43RLBLjQvxDuRS',\n FullArtist with fields:\n   external_urls = {'spotify'}\n   followers = Followers(href, total)\n   genres = [4 x str]\n   href = 'https://api.spotify.com/v1/artists/606pshIhidPHebEaDWSXDe'\n   id = '606pshIhidPHebEaDWSXDe'\n   images = [4 x Image(height, url, width)]\n   name = 'Mitsuko Uchida'\n   popularity = 48\n   type = 'artist'\n   uri = 'spotify:artist:606pshIhidPHebEaDWSXDe',\n FullArtist with fields:\n   external_urls = {'spotify'}\n   followers = Followers(href, total)\n   genres = [1 x str]\n   href = 'https://api.spotify.com/v1/artists/7uuaFrkQb0ZGbCMRsBc5Kz'\n   id = '7uuaFrkQb0ZGbCMRsBc5Kz'\n   images = [3 x Image(height, url, width)]\n   name = 'Neil Black'\n   popularity = 28\n   type = 'artist'\n   uri = 'spotify:artist:7uuaFrkQb0ZGbCMRsBc5Kz',\n FullArtist with fields:\n   external_urls = {'spotify'}\n   followers = Followers(href, total)\n   genres = [1 x str]\n   href = 'https://api.spotify.com/v1/artists/3unJkoTTz870AtGe78jTjx'\n   id = '3unJkoTTz870AtGe78jTjx'\n   images = [2 x Image(height, url, width)]\n   name = 'Thea King'\n   popularity = 11\n   type = 'artist'\n   uri = 'spotify:artist:3unJkoTTz870AtGe78jTjx',\n FullArtist with fields:\n   external_urls = {'spotify'}\n   followers = Followers(href, total)\n   genres = [1 x str]\n   href = 'https://api.spotify.com/v1/artists/3DCJ5uLWbNBu14Ug1OHvf0'\n   id = '3DCJ5uLWbNBu14Ug1OHvf0'\n   images = [3 x Image(height, url, width)]\n   name = 'Frank Lloyd'\n   popularity = 10\n   type = 'artist'\n   uri = 'spotify:artist:3DCJ5uLWbNBu14Ug1OHvf0',\n FullArtist with fields:\n   external_urls = {'spotify'}\n   followers = Followers(href, total)\n   genres = [0 x str]\n   href = 'https://api.spotify.com/v1/artists/1tnXxKPEvcEZbdpueRtuVF'\n   id = '1tnXxKPEvcEZbdpueRtuVF'\n   images = [3 x Image(height, url, width)]\n   name = 'Robin O'Neill'\n   popularity = 11\n   type = 'artist'\n   uri = 'spotify:artist:1tnXxKPEvcEZbdpueRtuVF',\n FullArtist with fields:\n   external_urls = {'spotify'}\n   followers = Followers(href, total)\n   genres = [2 x str]\n   href = 'https://api.spotify.com/v1/artists/4NJhFmfw43RLBLjQvxDuRS'\n   id = '4NJhFmfw43RLBLjQvxDuRS'\n   images = [3 x Image(height, url, width)]\n   name = 'Wolfgang Amadeus Mozart'\n   popularity = 75\n   type = 'artist'\n   uri = 'spotify:artist:4NJhFmfw43RLBLjQvxDuRS',\n FullArtist with fields:\n   external_urls = {'spotify'}\n   followers = Followers(href, total)\n   genres = [4 x str]\n   href = 'https://api.spotify.com/v1/artists/606pshIhidPHebEaDWSXDe'\n   id = '606pshIhidPHebEaDWSXDe'\n   images = [4 x Image(height, url, width)]\n   name = 'Mitsuko Uchida'\n   popularity = 48\n   type = 'artist'\n   uri = 'spotify:artist:606pshIhidPHebEaDWSXDe',\n FullArtist with fields:\n   external_urls = {'spotify'}\n   followers = Followers(href, total)\n   genres = [1 x str]\n   href = 'https://api.spotify.com/v1/artists/7uuaFrkQb0ZGbCMRsBc5Kz'\n   id = '7uuaFrkQb0ZGbCMRsBc5Kz'\n   images = [3 x Image(height, url, width)]\n   name = 'Neil Black'\n   popularity = 28\n   type = 'artist'\n   uri = 'spotify:artist:7uuaFrkQb0ZGbCMRsBc5Kz',\n FullArtist with fields:\n   external_urls = {'spotify'}\n   followers = Followers(href, total)\n   genres = [1 x str]\n   href = 'https://api.spotify.com/v1/artists/3unJkoTTz870AtGe78jTjx'\n   id = '3unJkoTTz870AtGe78jTjx'\n   images = [2 x Image(height, url, width)]\n   name = 'Thea King'\n   popularity = 11\n   type = 'artist'\n   uri = 'spotify:artist:3unJkoTTz870AtGe78jTjx',\n FullArtist with fields:\n   external_urls = {'spotify'}\n   followers = Followers(href, total)\n   genres = [1 x str]\n   href = 'https://api.spotify.com/v1/artists/3DCJ5uLWbNBu14Ug1OHvf0'\n   id = '3DCJ5uLWbNBu14Ug1OHvf0'\n   images = [3 x Image(height, url, width)]\n   name = 'Frank Lloyd'\n   popularity = 10\n   type = 'artist'\n   uri = 'spotify:artist:3DCJ5uLWbNBu14Ug1OHvf0',\n FullArtist with fields:\n   external_urls = {'spotify'}\n   followers = Followers(href, total)\n   genres = [0 x str]\n   href = 'https://api.spotify.com/v1/artists/1tnXxKPEvcEZbdpueRtuVF'\n   id = '1tnXxKPEvcEZbdpueRtuVF'\n   images = [3 x Image(height, url, width)]\n   name = 'Robin O'Neill'\n   popularity = 11\n   type = 'artist'\n   uri = 'spotify:artist:1tnXxKPEvcEZbdpueRtuVF',\n FullArtist with fields:\n   external_urls = {'spotify'}\n   followers = Followers(href, total)\n   genres = [2 x str]\n   href = 'https://api.spotify.com/v1/artists/4NJhFmfw43RLBLjQvxDuRS'\n   id = '4NJhFmfw43RLBLjQvxDuRS'\n   images = [3 x Image(height, url, width)]\n   name = 'Wolfgang Amadeus Mozart'\n   popularity = 75\n   type = 'artist'\n   uri = 'spotify:artist:4NJhFmfw43RLBLjQvxDuRS',\n FullArtist with fields:\n   external_urls = {'spotify'}\n   followers = Followers(href, total)\n   genres = [4 x str]\n   href = 'https://api.spotify.com/v1/artists/606pshIhidPHebEaDWSXDe'\n   id = '606pshIhidPHebEaDWSXDe'\n   images = [4 x Image(height, url, width)]\n   name = 'Mitsuko Uchida'\n   popularity = 48\n   type = 'artist'\n   uri = 'spotify:artist:606pshIhidPHebEaDWSXDe',\n FullArtist with fields:\n   external_urls = {'spotify'}\n   followers = Followers(href, total)\n   genres = [1 x str]\n   href = 'https://api.spotify.com/v1/artists/7uuaFrkQb0ZGbCMRsBc5Kz'\n   id = '7uuaFrkQb0ZGbCMRsBc5Kz'\n   images = [3 x Image(height, url, width)]\n   name = 'Neil Black'\n   popularity = 28\n   type = 'artist'\n   uri = 'spotify:artist:7uuaFrkQb0ZGbCMRsBc5Kz',\n FullArtist with fields:\n   external_urls = {'spotify'}\n   followers = Followers(href, total)\n   genres = [1 x str]\n   href = 'https://api.spotify.com/v1/artists/3unJkoTTz870AtGe78jTjx'\n   id = '3unJkoTTz870AtGe78jTjx'\n   images = [2 x Image(height, url, width)]\n   name = 'Thea King'\n   popularity = 11\n   type = 'artist'\n   uri = 'spotify:artist:3unJkoTTz870AtGe78jTjx',\n FullArtist with fields:\n   external_urls = {'spotify'}\n   followers = Followers(href, total)\n   genres = [1 x str]\n   href = 'https://api.spotify.com/v1/artists/3DCJ5uLWbNBu14Ug1OHvf0'\n   id = '3DCJ5uLWbNBu14Ug1OHvf0'\n   images = [3 x Image(height, url, width)]\n   name = 'Frank Lloyd'\n   popularity = 10\n   type = 'artist'\n   uri = 'spotify:artist:3DCJ5uLWbNBu14Ug1OHvf0',\n FullArtist with fields:\n   external_urls = {'spotify'}\n   followers = Followers(href, total)\n   genres = [0 x str]\n   href = 'https://api.spotify.com/v1/artists/1tnXxKPEvcEZbdpueRtuVF'\n   id = '1tnXxKPEvcEZbdpueRtuVF'\n   images = [3 x Image(height, url, width)]\n   name = 'Robin O'Neill'\n   popularity = 11\n   type = 'artist'\n   uri = 'spotify:artist:1tnXxKPEvcEZbdpueRtuVF',\n FullArtist with fields:\n   external_urls = {'spotify'}\n   followers = Followers(href, total)\n   genres = [2 x str]\n   href = 'https://api.spotify.com/v1/artists/4NJhFmfw43RLBLjQvxDuRS'\n   id = '4NJhFmfw43RLBLjQvxDuRS'\n   images = [3 x Image(height, url, width)]\n   name = 'Wolfgang Amadeus Mozart'\n   popularity = 75\n   type = 'artist'\n   uri = 'spotify:artist:4NJhFmfw43RLBLjQvxDuRS',\n FullArtist with fields:\n   external_urls = {'spotify'}\n   followers = Followers(href, total)\n   genres = [4 x str]\n   href = 'https://api.spotify.com/v1/artists/606pshIhidPHebEaDWSXDe'\n   id = '606pshIhidPHebEaDWSXDe'\n   images = [4 x Image(height, url, width)]\n   name = 'Mitsuko Uchida'\n   popularity = 48\n   type = 'artist'\n   uri = 'spotify:artist:606pshIhidPHebEaDWSXDe',\n FullArtist with fields:\n   external_urls = {'spotify'}\n   followers = Followers(href, total)\n   genres = [1 x str]\n   href = 'https://api.spotify.com/v1/artists/7uuaFrkQb0ZGbCMRsBc5Kz'\n   id = '7uuaFrkQb0ZGbCMRsBc5Kz'\n   images = [3 x Image(height, url, width)]\n   name = 'Neil Black'\n   popularity = 28\n   type = 'artist'\n   uri = 'spotify:artist:7uuaFrkQb0ZGbCMRsBc5Kz',\n FullArtist with fields:\n   external_urls = {'spotify'}\n   followers = Followers(href, total)\n   genres = [1 x str]\n   href = 'https://api.spotify.com/v1/artists/3unJkoTTz870AtGe78jTjx'\n   id = '3unJkoTTz870AtGe78jTjx'\n   images = [2 x Image(height, url, width)]\n   name = 'Thea King'\n   popularity = 11\n   type = 'artist'\n   uri = 'spotify:artist:3unJkoTTz870AtGe78jTjx',\n FullArtist with fields:\n   external_urls = {'spotify'}\n   followers = Followers(href, total)\n   genres = [1 x str]\n   href = 'https://api.spotify.com/v1/artists/3DCJ5uLWbNBu14Ug1OHvf0'\n   id = '3DCJ5uLWbNBu14Ug1OHvf0'\n   images = [3 x Image(height, url, width)]\n   name = 'Frank Lloyd'\n   popularity = 10\n   type = 'artist'\n   uri = 'spotify:artist:3DCJ5uLWbNBu14Ug1OHvf0',\n FullArtist with fields:\n   external_urls = {'spotify'}\n   followers = Followers(href, total)\n   genres = [0 x str]\n   href = 'https://api.spotify.com/v1/artists/1tnXxKPEvcEZbdpueRtuVF'\n   id = '1tnXxKPEvcEZbdpueRtuVF'\n   images = [3 x Image(height, url, width)]\n   name = 'Robin O'Neill'\n   popularity = 11\n   type = 'artist'\n   uri = 'spotify:artist:1tnXxKPEvcEZbdpueRtuVF',\n FullArtist with fields:\n   external_urls = {'spotify'}\n   followers = Followers(href, total)\n   genres = [1 x str]\n   href = 'https://api.spotify.com/v1/artists/71Fwag5Tn4ldB6GcfjApHQ'\n   id = '71Fwag5Tn4ldB6GcfjApHQ'\n   images = [3 x Image(height, url, width)]\n   name = 'Herbert Pixner Projekt'\n   popularity = 43\n   type = 'artist'\n   uri = 'spotify:artist:71Fwag5Tn4ldB6GcfjApHQ',\n FullArtist with fields:\n   external_urls = {'spotify'}\n   followers = Followers(href, total)\n   genres = [3 x str]\n   href = 'https://api.spotify.com/v1/artists/1dfeR4HaWDbWqFHLkxsg1d'\n   id = '1dfeR4HaWDbWqFHLkxsg1d'\n   images = [4 x Image(height, url, width)]\n   name = 'Queen'\n   popularity = 86\n   type = 'artist'\n   uri = 'spotify:artist:1dfeR4HaWDbWqFHLkxsg1d',\n FullArtist with fields:\n   external_urls = {'spotify'}\n   followers = Followers(href, total)\n   genres = [2 x str]\n   href = 'https://api.spotify.com/v1/artists/39KEQQAG9JhIt71g9NEVhh'\n   id = '39KEQQAG9JhIt71g9NEVhh'\n   images = [3 x Image(height, url, width)]\n   name = 'Azet'\n   popularity = 66\n   type = 'artist'\n   uri = 'spotify:artist:39KEQQAG9JhIt71g9NEVhh',\n FullArtist with fields:\n   external_urls = {'spotify'}\n   followers = Followers(href, total)\n   genres = [1 x str]\n   href = 'https://api.spotify.com/v1/artists/0Dvx6p8JDyzeOPGmaCIH1L'\n   id = '0Dvx6p8JDyzeOPGmaCIH1L'\n   images = [3 x Image(height, url, width)]\n   name = 'RAF Camora'\n   popularity = 77\n   type = 'artist'\n   uri = 'spotify:artist:0Dvx6p8JDyzeOPGmaCIH1L',\n FullArtist with fields:\n   external_urls = {'spotify'}\n   followers = Followers(href, total)\n   genres = [7 x str]\n   href = 'https://api.spotify.com/v1/artists/1V3VTM7VspiQjcmRhC010n'\n   id = '1V3VTM7VspiQjcmRhC010n'\n   images = [3 x Image(height, url, width)]\n   name = 'Quintino'\n   popularity = 60\n   type = 'artist'\n   uri = 'spotify:artist:1V3VTM7VspiQjcmRhC010n',\n FullArtist with fields:\n   external_urls = {'spotify'}\n   followers = Followers(href, total)\n   genres = [9 x str]\n   href = 'https://api.spotify.com/v1/artists/1XLjkBxFokuDTlHt0mQkRe'\n   id = '1XLjkBxFokuDTlHt0mQkRe'\n   images = [3 x Image(height, url, width)]\n   name = 'Thomas Gold'\n   popularity = 50\n   type = 'artist'\n   uri = 'spotify:artist:1XLjkBxFokuDTlHt0mQkRe',\n FullArtist with fields:\n   external_urls = {'spotify'}\n   followers = Followers(href, total)\n   genres = [2 x str]\n   href = 'https://api.spotify.com/v1/artists/5sWHDYs0csV6RS48xBl0tH'\n   id = '5sWHDYs0csV6RS48xBl0tH'\n   images = [3 x Image(height, url, width)]\n   name = 'Two Feet'\n   popularity = 72\n   type = 'artist'\n   uri = 'spotify:artist:5sWHDYs0csV6RS48xBl0tH',\n FullArtist with fields:\n   external_urls = {'spotify'}\n   followers = Followers(href, total)\n   genres = [1 x str]\n   href = 'https://api.spotify.com/v1/artists/5LDnZtMSHIoJ8oElgoiCg6'\n   id = '5LDnZtMSHIoJ8oElgoiCg6'\n   images = [3 x Image(height, url, width)]\n   name = 'Steven Mitchell'\n   popularity = 29\n   type = 'artist'\n   uri = 'spotify:artist:5LDnZtMSHIoJ8oElgoiCg6',\n FullArtist with fields:\n   external_urls = {'spotify'}\n   followers = Followers(href, total)\n   genres = [3 x str]\n   href = 'https://api.spotify.com/v1/artists/1dfeR4HaWDbWqFHLkxsg1d'\n   id = '1dfeR4HaWDbWqFHLkxsg1d'\n   images = [4 x Image(height, url, width)]\n   name = 'Queen'\n   popularity = 86\n   type = 'artist'\n   uri = 'spotify:artist:1dfeR4HaWDbWqFHLkxsg1d',\n FullArtist with fields:\n   external_urls = {'spotify'}\n   followers = Followers(href, total)\n   genres = [5 x str]\n   href = 'https://api.spotify.com/v1/artists/0oSGxfWSnnOXhD2fKuz2Gy'\n   id = '0oSGxfWSnnOXhD2fKuz2Gy'\n   images = [3 x Image(height, url, width)]\n   name = 'David Bowie'\n   popularity = 78\n   type = 'artist'\n   uri = 'spotify:artist:0oSGxfWSnnOXhD2fKuz2Gy',\n FullArtist with fields:\n   external_urls = {'spotify'}\n   followers = Followers(href, total)\n   genres = [0 x str]\n   href = 'https://api.spotify.com/v1/artists/7CWhYHarAP866A8KALPMY0'\n   id = '7CWhYHarAP866A8KALPMY0'\n   images = [3 x Image(height, url, width)]\n   name = 'Grey Shorts'\n   popularity = 18\n   type = 'artist'\n   uri = 'spotify:artist:7CWhYHarAP866A8KALPMY0',\n FullArtist with fields:\n   external_urls = {'spotify'}\n   followers = Followers(href, total)\n   genres = [3 x str]\n   href = 'https://api.spotify.com/v1/artists/6vWDO969PvNqNYHIOW5v0m'\n   id = '6vWDO969PvNqNYHIOW5v0m'\n   images = [3 x Image(height, url, width)]\n   name = 'Beyoncé'\n   popularity = 87\n   type = 'artist'\n   uri = 'spotify:artist:6vWDO969PvNqNYHIOW5v0m',\n FullArtist with fields:\n   external_urls = {'spotify'}\n   followers = Followers(href, total)\n   genres = [6 x str]\n   href = 'https://api.spotify.com/v1/artists/3tJoFztHeIJkJWMrx0td2f'\n   id = '3tJoFztHeIJkJWMrx0td2f'\n   images = [3 x Image(height, url, width)]\n   name = 'Moneybagg Yo'\n   popularity = 77\n   type = 'artist'\n   uri = 'spotify:artist:3tJoFztHeIJkJWMrx0td2f',\n FullArtist with fields:\n   external_urls = {'spotify'}\n   followers = Followers(href, total)\n   genres = [2 x str]\n   href = 'https://api.spotify.com/v1/artists/4npEfmQ6YuiwW1GpUmaq3F'\n   id = '4npEfmQ6YuiwW1GpUmaq3F'\n   images = [3 x Image(height, url, width)]\n   name = 'Ava Max'\n   popularity = 82\n   type = 'artist'\n   uri = 'spotify:artist:4npEfmQ6YuiwW1GpUmaq3F',\n FullArtist with fields:\n   external_urls = {'spotify'}\n   followers = Followers(href, total)\n   genres = [3 x str]\n   href = 'https://api.spotify.com/v1/artists/1dfeR4HaWDbWqFHLkxsg1d'\n   id = '1dfeR4HaWDbWqFHLkxsg1d'\n   images = [4 x Image(height, url, width)]\n   name = 'Queen'\n   popularity = 86\n   type = 'artist'\n   uri = 'spotify:artist:1dfeR4HaWDbWqFHLkxsg1d',\n FullArtist with fields:\n   external_urls = {'spotify'}\n   followers = Followers(href, total)\n   genres = [0 x str]\n   href = 'https://api.spotify.com/v1/artists/01epL9hgF4G7guGkrnzR8a'\n   id = '01epL9hgF4G7guGkrnzR8a'\n   images = [3 x Image(height, url, width)]\n   name = 'SILK'\n   popularity = 48\n   type = 'artist'\n   uri = 'spotify:artist:01epL9hgF4G7guGkrnzR8a']"
     },
     "execution_count": 6,
     "metadata": {},
     "output_type": "execute_result"
    }
   ],
   "source": [
    "from project.util import Partition\n",
    "\n",
    "artist_id_limit=50\n",
    "artist_ids = [artist.id for track in tracks for artist in track.artists]\n",
    "artist_id_partitions = Partition(artist_ids)\n",
    "artists = [spotify.artists(ids) for ids in artist_id_partitions]\n",
    "artists = [artist for partition in artists for artist in partition]\n",
    "artists"
   ],
   "metadata": {
    "collapsed": false
   }
  },
  {
   "cell_type": "code",
   "execution_count": 7,
   "outputs": [],
   "source": [
    "import pylast\n",
    "from authentication.lastfm_credentials import LastFmCredentials\n",
    "\n",
    "creds = LastFmCredentials(\"f06f4002f217a1c17ca7864a15fe059f\", \"00f207939f38850e1870131a03bf406a\")\n",
    "last_network = pylast.LastFMNetwork(\n",
    "    api_key=creds.api_key,\n",
    "    api_secret=creds.shared_secret,\n",
    ")"
   ],
   "metadata": {
    "collapsed": false
   }
  },
  {
   "cell_type": "code",
   "execution_count": 8,
   "outputs": [
    {
     "ename": "WSError",
     "evalue": "Track not found",
     "output_type": "error",
     "traceback": [
      "\u001B[0;31m---------------------------------------------------------------------------\u001B[0m",
      "\u001B[0;31mWSError\u001B[0m                                   Traceback (most recent call last)",
      "Cell \u001B[0;32mIn [8], line 2\u001B[0m\n\u001B[1;32m      1\u001B[0m \u001B[38;5;28;01mimport\u001B[39;00m \u001B[38;5;21;01mmodel\u001B[39;00m\u001B[38;5;21;01m.\u001B[39;00m\u001B[38;5;21;01mtrack\u001B[39;00m \u001B[38;5;28;01mas\u001B[39;00m \u001B[38;5;21;01mmodel\u001B[39;00m\n\u001B[0;32m----> 2\u001B[0m analyzed_tracks \u001B[38;5;241m=\u001B[39m \u001B[43mmodel\u001B[49m\u001B[38;5;241;43m.\u001B[39;49m\u001B[43mAnalyzedTracks\u001B[49m\u001B[43m(\u001B[49m\u001B[43mtracks\u001B[49m\u001B[43m,\u001B[49m\u001B[43m \u001B[49m\u001B[43martists\u001B[49m\u001B[43m,\u001B[49m\u001B[43m \u001B[49m\u001B[43mlast_network\u001B[49m\u001B[43m)\u001B[49m\n",
      "File \u001B[0;32m~/projects/fh/mc/ml/project/model/track.py:62\u001B[0m, in \u001B[0;36mAnalyzedTracks.__init__\u001B[0;34m(self, tracks, artists, network)\u001B[0m\n\u001B[1;32m     61\u001B[0m \u001B[38;5;28;01mdef\u001B[39;00m \u001B[38;5;21m__init__\u001B[39m(\u001B[38;5;28mself\u001B[39m, tracks: List[FullTrack], artists: List[FullArtist], network: pylast\u001B[38;5;241m.\u001B[39mLastFMNetwork):\n\u001B[0;32m---> 62\u001B[0m     \u001B[38;5;28mself\u001B[39m\u001B[38;5;241m.\u001B[39mtracks \u001B[38;5;241m=\u001B[39m [\n\u001B[1;32m     63\u001B[0m         AnalyzedTrack(track, [artist\n\u001B[1;32m     64\u001B[0m                               \u001B[38;5;28;01mfor\u001B[39;00m artist \u001B[38;5;129;01min\u001B[39;00m artists\n\u001B[1;32m     65\u001B[0m                               \u001B[38;5;28;01mif\u001B[39;00m artist\u001B[38;5;241m.\u001B[39mid \u001B[38;5;129;01min\u001B[39;00m [a\u001B[38;5;241m.\u001B[39mid \u001B[38;5;28;01mfor\u001B[39;00m a \u001B[38;5;129;01min\u001B[39;00m track\u001B[38;5;241m.\u001B[39martists]],\n\u001B[1;32m     66\u001B[0m                       TaggedTrack(network, track\u001B[38;5;241m.\u001B[39mname, artists)\n\u001B[1;32m     67\u001B[0m                       ) \u001B[38;5;28;01mfor\u001B[39;00m track \u001B[38;5;129;01min\u001B[39;00m tracks\n\u001B[1;32m     68\u001B[0m     ]\n",
      "File \u001B[0;32m~/projects/fh/mc/ml/project/model/track.py:63\u001B[0m, in \u001B[0;36m<listcomp>\u001B[0;34m(.0)\u001B[0m\n\u001B[1;32m     61\u001B[0m \u001B[38;5;28;01mdef\u001B[39;00m \u001B[38;5;21m__init__\u001B[39m(\u001B[38;5;28mself\u001B[39m, tracks: List[FullTrack], artists: List[FullArtist], network: pylast\u001B[38;5;241m.\u001B[39mLastFMNetwork):\n\u001B[1;32m     62\u001B[0m     \u001B[38;5;28mself\u001B[39m\u001B[38;5;241m.\u001B[39mtracks \u001B[38;5;241m=\u001B[39m [\n\u001B[0;32m---> 63\u001B[0m         \u001B[43mAnalyzedTrack\u001B[49m\u001B[43m(\u001B[49m\u001B[43mtrack\u001B[49m\u001B[43m,\u001B[49m\u001B[43m \u001B[49m\u001B[43m[\u001B[49m\u001B[43martist\u001B[49m\n\u001B[1;32m     64\u001B[0m \u001B[43m                              \u001B[49m\u001B[38;5;28;43;01mfor\u001B[39;49;00m\u001B[43m \u001B[49m\u001B[43martist\u001B[49m\u001B[43m \u001B[49m\u001B[38;5;129;43;01min\u001B[39;49;00m\u001B[43m \u001B[49m\u001B[43martists\u001B[49m\n\u001B[1;32m     65\u001B[0m \u001B[43m                              \u001B[49m\u001B[38;5;28;43;01mif\u001B[39;49;00m\u001B[43m \u001B[49m\u001B[43martist\u001B[49m\u001B[38;5;241;43m.\u001B[39;49m\u001B[43mid\u001B[49m\u001B[43m \u001B[49m\u001B[38;5;129;43;01min\u001B[39;49;00m\u001B[43m \u001B[49m\u001B[43m[\u001B[49m\u001B[43ma\u001B[49m\u001B[38;5;241;43m.\u001B[39;49m\u001B[43mid\u001B[49m\u001B[43m \u001B[49m\u001B[38;5;28;43;01mfor\u001B[39;49;00m\u001B[43m \u001B[49m\u001B[43ma\u001B[49m\u001B[43m \u001B[49m\u001B[38;5;129;43;01min\u001B[39;49;00m\u001B[43m \u001B[49m\u001B[43mtrack\u001B[49m\u001B[38;5;241;43m.\u001B[39;49m\u001B[43martists\u001B[49m\u001B[43m]\u001B[49m\u001B[43m]\u001B[49m\u001B[43m,\u001B[49m\n\u001B[1;32m     66\u001B[0m \u001B[43m                      \u001B[49m\u001B[43mTaggedTrack\u001B[49m\u001B[43m(\u001B[49m\u001B[43mnetwork\u001B[49m\u001B[43m,\u001B[49m\u001B[43m \u001B[49m\u001B[43mtrack\u001B[49m\u001B[38;5;241;43m.\u001B[39;49m\u001B[43mname\u001B[49m\u001B[43m,\u001B[49m\u001B[43m \u001B[49m\u001B[43martists\u001B[49m\u001B[43m)\u001B[49m\n\u001B[1;32m     67\u001B[0m \u001B[43m                      \u001B[49m\u001B[43m)\u001B[49m \u001B[38;5;28;01mfor\u001B[39;00m track \u001B[38;5;129;01min\u001B[39;00m tracks\n\u001B[1;32m     68\u001B[0m     ]\n",
      "File \u001B[0;32m~/projects/fh/mc/ml/project/model/track.py:42\u001B[0m, in \u001B[0;36mAnalyzedTrack.__init__\u001B[0;34m(self, full_track, artists, tagged_track)\u001B[0m\n\u001B[1;32m     39\u001B[0m \u001B[38;5;28mself\u001B[39m\u001B[38;5;241m.\u001B[39martist_genres \u001B[38;5;241m=\u001B[39m \u001B[38;5;28mset\u001B[39m([genre \u001B[38;5;28;01mfor\u001B[39;00m artist \u001B[38;5;129;01min\u001B[39;00m artists\n\u001B[1;32m     40\u001B[0m                           \u001B[38;5;28;01mfor\u001B[39;00m genre \u001B[38;5;129;01min\u001B[39;00m artist\u001B[38;5;241m.\u001B[39mgenres])\n\u001B[1;32m     41\u001B[0m \u001B[38;5;28mself\u001B[39m\u001B[38;5;241m.\u001B[39martist_names \u001B[38;5;241m=\u001B[39m \u001B[38;5;28mset\u001B[39m([artist\u001B[38;5;241m.\u001B[39mname \u001B[38;5;28;01mfor\u001B[39;00m artist \u001B[38;5;129;01min\u001B[39;00m artists])\n\u001B[0;32m---> 42\u001B[0m \u001B[38;5;28mself\u001B[39m\u001B[38;5;241m.\u001B[39mtags \u001B[38;5;241m=\u001B[39m \u001B[38;5;28mset\u001B[39m(\u001B[43mtagged_track\u001B[49m\u001B[38;5;241;43m.\u001B[39;49m\u001B[43mtags\u001B[49m\u001B[43m(\u001B[49m\u001B[43m)\u001B[49m)\n",
      "File \u001B[0;32m~/projects/fh/mc/ml/project/model/track.py:20\u001B[0m, in \u001B[0;36mTaggedTrack.tags\u001B[0;34m(self)\u001B[0m\n\u001B[1;32m     19\u001B[0m \u001B[38;5;28;01mdef\u001B[39;00m \u001B[38;5;21mtags\u001B[39m(\u001B[38;5;28mself\u001B[39m) \u001B[38;5;241m-\u001B[39m\u001B[38;5;241m>\u001B[39m List[\u001B[38;5;28mstr\u001B[39m]:\n\u001B[0;32m---> 20\u001B[0m     tags \u001B[38;5;241m=\u001B[39m \u001B[38;5;28;43mself\u001B[39;49m\u001B[38;5;241;43m.\u001B[39;49m\u001B[43mnetwork\u001B[49m\u001B[38;5;241;43m.\u001B[39;49m\u001B[43mget_track\u001B[49m\u001B[43m(\u001B[49m\u001B[38;5;28;43mself\u001B[39;49m\u001B[38;5;241;43m.\u001B[39;49m\u001B[43martist_names\u001B[49m\u001B[43m[\u001B[49m\u001B[38;5;241;43m0\u001B[39;49m\u001B[43m]\u001B[49m\u001B[43m,\u001B[49m\u001B[43m \u001B[49m\u001B[38;5;28;43mself\u001B[39;49m\u001B[38;5;241;43m.\u001B[39;49m\u001B[43mname\u001B[49m\u001B[43m)\u001B[49m\u001B[38;5;241;43m.\u001B[39;49m\u001B[43mget_top_tags\u001B[49m\u001B[43m(\u001B[49m\u001B[43m)\u001B[49m\n\u001B[1;32m     21\u001B[0m     \u001B[38;5;28;01mreturn\u001B[39;00m [tag\u001B[38;5;241m.\u001B[39mitem\u001B[38;5;241m.\u001B[39mname \u001B[38;5;28;01mfor\u001B[39;00m tag \u001B[38;5;129;01min\u001B[39;00m tags]\n",
      "File \u001B[0;32m~/projects/fh/mc/ml/venv/lib/python3.10/site-packages/pylast/__init__.py:1379\u001B[0m, in \u001B[0;36m_Taggable.get_top_tags\u001B[0;34m(self, limit)\u001B[0m\n\u001B[1;32m   1376\u001B[0m \u001B[38;5;28;01mdef\u001B[39;00m \u001B[38;5;21mget_top_tags\u001B[39m(\u001B[38;5;28mself\u001B[39m, limit\u001B[38;5;241m=\u001B[39m\u001B[38;5;28;01mNone\u001B[39;00m):\n\u001B[1;32m   1377\u001B[0m     \u001B[38;5;124;03m\"\"\"Returns a list of the most frequently used Tags on this object.\"\"\"\u001B[39;00m\n\u001B[0;32m-> 1379\u001B[0m     doc \u001B[38;5;241m=\u001B[39m \u001B[38;5;28;43mself\u001B[39;49m\u001B[38;5;241;43m.\u001B[39;49m\u001B[43m_request\u001B[49m\u001B[43m(\u001B[49m\u001B[38;5;28;43mself\u001B[39;49m\u001B[38;5;241;43m.\u001B[39;49m\u001B[43mws_prefix\u001B[49m\u001B[43m \u001B[49m\u001B[38;5;241;43m+\u001B[39;49m\u001B[43m \u001B[49m\u001B[38;5;124;43m\"\u001B[39;49m\u001B[38;5;124;43m.getTopTags\u001B[39;49m\u001B[38;5;124;43m\"\u001B[39;49m\u001B[43m,\u001B[49m\u001B[43m \u001B[49m\u001B[38;5;28;43;01mTrue\u001B[39;49;00m\u001B[43m)\u001B[49m\n\u001B[1;32m   1381\u001B[0m     elements \u001B[38;5;241m=\u001B[39m doc\u001B[38;5;241m.\u001B[39mgetElementsByTagName(\u001B[38;5;124m\"\u001B[39m\u001B[38;5;124mtag\u001B[39m\u001B[38;5;124m\"\u001B[39m)\n\u001B[1;32m   1382\u001B[0m     seq \u001B[38;5;241m=\u001B[39m []\n",
      "File \u001B[0;32m~/projects/fh/mc/ml/venv/lib/python3.10/site-packages/pylast/__init__.py:1112\u001B[0m, in \u001B[0;36m_BaseObject._request\u001B[0;34m(self, method_name, cacheable, params)\u001B[0m\n\u001B[1;32m   1109\u001B[0m \u001B[38;5;28;01mif\u001B[39;00m \u001B[38;5;129;01mnot\u001B[39;00m params:\n\u001B[1;32m   1110\u001B[0m     params \u001B[38;5;241m=\u001B[39m \u001B[38;5;28mself\u001B[39m\u001B[38;5;241m.\u001B[39m_get_params()\n\u001B[0;32m-> 1112\u001B[0m \u001B[38;5;28;01mreturn\u001B[39;00m \u001B[43m_Request\u001B[49m\u001B[43m(\u001B[49m\u001B[38;5;28;43mself\u001B[39;49m\u001B[38;5;241;43m.\u001B[39;49m\u001B[43mnetwork\u001B[49m\u001B[43m,\u001B[49m\u001B[43m \u001B[49m\u001B[43mmethod_name\u001B[49m\u001B[43m,\u001B[49m\u001B[43m \u001B[49m\u001B[43mparams\u001B[49m\u001B[43m)\u001B[49m\u001B[38;5;241;43m.\u001B[39;49m\u001B[43mexecute\u001B[49m\u001B[43m(\u001B[49m\u001B[43mcacheable\u001B[49m\u001B[43m)\u001B[49m\n",
      "File \u001B[0;32m~/projects/fh/mc/ml/venv/lib/python3.10/site-packages/pylast/__init__.py:947\u001B[0m, in \u001B[0;36m_Request.execute\u001B[0;34m(self, cacheable)\u001B[0m\n\u001B[1;32m    945\u001B[0m     response \u001B[38;5;241m=\u001B[39m \u001B[38;5;28mself\u001B[39m\u001B[38;5;241m.\u001B[39m_get_cached_response()\n\u001B[1;32m    946\u001B[0m \u001B[38;5;28;01melse\u001B[39;00m:\n\u001B[0;32m--> 947\u001B[0m     response \u001B[38;5;241m=\u001B[39m \u001B[38;5;28;43mself\u001B[39;49m\u001B[38;5;241;43m.\u001B[39;49m\u001B[43m_download_response\u001B[49m\u001B[43m(\u001B[49m\u001B[43m)\u001B[49m\n\u001B[1;32m    949\u001B[0m \u001B[38;5;28;01mreturn\u001B[39;00m _parse_response(response)\n",
      "File \u001B[0;32m~/projects/fh/mc/ml/venv/lib/python3.10/site-packages/pylast/__init__.py:936\u001B[0m, in \u001B[0;36m_Request._download_response\u001B[0;34m(self)\u001B[0m\n\u001B[1;32m    933\u001B[0m response_text \u001B[38;5;241m=\u001B[39m _unicode(response\u001B[38;5;241m.\u001B[39mread())\n\u001B[1;32m    935\u001B[0m \u001B[38;5;28;01mtry\u001B[39;00m:\n\u001B[0;32m--> 936\u001B[0m     \u001B[38;5;28;43mself\u001B[39;49m\u001B[38;5;241;43m.\u001B[39;49m\u001B[43m_check_response_for_errors\u001B[49m\u001B[43m(\u001B[49m\u001B[43mresponse_text\u001B[49m\u001B[43m)\u001B[49m\n\u001B[1;32m    937\u001B[0m \u001B[38;5;28;01mfinally\u001B[39;00m:\n\u001B[1;32m    938\u001B[0m     client\u001B[38;5;241m.\u001B[39mclose()\n",
      "File \u001B[0;32m~/projects/fh/mc/ml/venv/lib/python3.10/site-packages/pylast/__init__.py:965\u001B[0m, in \u001B[0;36m_Request._check_response_for_errors\u001B[0;34m(self, response)\u001B[0m\n\u001B[1;32m    963\u001B[0m status \u001B[38;5;241m=\u001B[39m element\u001B[38;5;241m.\u001B[39mgetAttribute(\u001B[38;5;124m\"\u001B[39m\u001B[38;5;124mcode\u001B[39m\u001B[38;5;124m\"\u001B[39m)\n\u001B[1;32m    964\u001B[0m details \u001B[38;5;241m=\u001B[39m element\u001B[38;5;241m.\u001B[39mfirstChild\u001B[38;5;241m.\u001B[39mdata\u001B[38;5;241m.\u001B[39mstrip()\n\u001B[0;32m--> 965\u001B[0m \u001B[38;5;28;01mraise\u001B[39;00m WSError(\u001B[38;5;28mself\u001B[39m\u001B[38;5;241m.\u001B[39mnetwork, status, details)\n",
      "\u001B[0;31mWSError\u001B[0m: Track not found"
     ]
    }
   ],
   "source": [
    "import model.track as model\n",
    "analyzed_tracks = model.AnalyzedTracks(tracks, artists, last_network)"
   ],
   "metadata": {
    "collapsed": false
   }
  },
  {
   "cell_type": "markdown",
   "source": [
    "# Firebase"
   ],
   "metadata": {
    "collapsed": false
   }
  },
  {
   "cell_type": "code",
   "execution_count": null,
   "outputs": [],
   "source": [
    "import firebase_admin\n",
    "from firebase_admin import credentials, firestore\n",
    "\n",
    "cred = credentials.ApplicationDefault()\n",
    "firebase_admin.initialize_app(cred)"
   ],
   "metadata": {
    "collapsed": false
   }
  },
  {
   "cell_type": "code",
   "execution_count": null,
   "outputs": [],
   "source": [
    "from google.cloud.firestore_v1 import Client\n",
    "\n",
    "firestore_client: Client = firestore.client()\n",
    "analyzed_tracks.upsert(firestore_client.collection(\"tracks\"))"
   ],
   "metadata": {
    "collapsed": false
   }
  },
  {
   "cell_type": "code",
   "execution_count": null,
   "outputs": [],
   "source": [],
   "metadata": {
    "collapsed": false
   }
  },
  {
   "cell_type": "code",
   "execution_count": null,
   "outputs": [],
   "source": [],
   "metadata": {
    "collapsed": false
   }
  },
  {
   "cell_type": "code",
   "execution_count": null,
   "outputs": [],
   "source": [],
   "metadata": {
    "collapsed": false
   }
  }
 ],
 "metadata": {
  "kernelspec": {
   "display_name": "Python 3",
   "language": "python",
   "name": "python3"
  },
  "language_info": {
   "codemirror_mode": {
    "name": "ipython",
    "version": 2
   },
   "file_extension": ".py",
   "mimetype": "text/x-python",
   "name": "python",
   "nbconvert_exporter": "python",
   "pygments_lexer": "ipython2",
   "version": "2.7.6"
  }
 },
 "nbformat": 4,
 "nbformat_minor": 0
}
