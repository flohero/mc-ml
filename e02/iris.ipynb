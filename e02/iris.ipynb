{
 "cells": [
  {
   "cell_type": "markdown",
   "source": [
    "# Iris Plant Species Classification"
   ],
   "metadata": {
    "collapsed": false
   }
  },
  {
   "cell_type": "markdown",
   "source": [
    "## Analyze the data using the same techniques as for the last assignment.\n",
    "Decide for yourself which and how to use the specific commands. Answer\n",
    "the following questions in the report and include figures supporting your\n",
    "answers:"
   ],
   "metadata": {
    "collapsed": false
   },
   "outputs": []
  },
  {
   "cell_type": "markdown",
   "source": [
    "### Which classes exist? Are they (roughly) balanced?"
   ],
   "metadata": {
    "collapsed": false
   },
   "outputs": []
  },
  {
   "cell_type": "code",
   "execution_count": 7,
   "outputs": [
    {
     "data": {
      "text/plain": "                 samples  ratio\nName                           \nIris-setosa           50    1.0\nIris-versicolor       50    1.0\nIris-virginica        50    1.0",
      "text/html": "<div>\n<style scoped>\n    .dataframe tbody tr th:only-of-type {\n        vertical-align: middle;\n    }\n\n    .dataframe tbody tr th {\n        vertical-align: top;\n    }\n\n    .dataframe thead th {\n        text-align: right;\n    }\n</style>\n<table border=\"1\" class=\"dataframe\">\n  <thead>\n    <tr style=\"text-align: right;\">\n      <th></th>\n      <th>samples</th>\n      <th>ratio</th>\n    </tr>\n    <tr>\n      <th>Name</th>\n      <th></th>\n      <th></th>\n    </tr>\n  </thead>\n  <tbody>\n    <tr>\n      <th>Iris-setosa</th>\n      <td>50</td>\n      <td>1.0</td>\n    </tr>\n    <tr>\n      <th>Iris-versicolor</th>\n      <td>50</td>\n      <td>1.0</td>\n    </tr>\n    <tr>\n      <th>Iris-virginica</th>\n      <td>50</td>\n      <td>1.0</td>\n    </tr>\n  </tbody>\n</table>\n</div>"
     },
     "execution_count": 7,
     "metadata": {},
     "output_type": "execute_result"
    }
   ],
   "source": [
    "from utils import ratio\n",
    "import pandas as pd\n",
    "\n",
    "df = pd.read_csv('iris.csv')\n",
    "ratio(df, 'Name')"
   ],
   "metadata": {
    "collapsed": false
   }
  },
  {
   "cell_type": "markdown",
   "source": [
    "Classes: Iris-setosa, Iris-versicolor, Iris-virginica\n",
    "They are perfectly balanced."
   ],
   "metadata": {
    "collapsed": false
   }
  },
  {
   "cell_type": "markdown",
   "source": [
    "### Which noteworthy trends of features and relations between features as well as features and Classes do you see?"
   ],
   "metadata": {
    "collapsed": false
   },
   "outputs": []
  },
  {
   "cell_type": "code",
   "execution_count": null,
   "outputs": [],
   "source": [],
   "metadata": {
    "collapsed": false
   }
  },
  {
   "cell_type": "markdown",
   "source": [
    "### If you would need to distinguish the classes with those features, which features would you choose, any why?"
   ],
   "metadata": {
    "collapsed": false
   }
  },
  {
   "cell_type": "markdown",
   "source": [
    "## In order to classify the three different Iris plant species, set up your first\n",
    "ML toolchain including the following steps:\n",
    "* Data and Feature Preprocessing (if necessary and applicable)\n",
    "    * Are there any outliers in the data which might need to be removed?\n",
    "    * Are there any missing values which need to be taken care of?\n",
    "    * Do you need to apply any feature preprocessing steps? (e.g Normalization, Feature Deletion/Reduction/Addition)\n",
    "    * Are there any categorical features that need to be transformed so that it can be used for classification task?\n",
    "    * Do you think it makes sense to derive any more features from the given ones? Why/why not?\n",
    "* Split up the dataset into a training and a separate held back test set in a clever way\n",
    "    * Why is such a train/test split important?\n",
    "    * Which train/test split percentage do you choose and why?\n",
    "    * Think about how can you make sure to include samples from all three classes in both datasets and why this is important.\n",
    "* Train different classification models to distinguish between the three Iris Plant Species:\n",
    "    * Use the following models: k Nearest Neighbour, Decision Tree, Support Vector Machine\n",
    "* Use different hyperparameter settings for each model and explain why and how you chose them\n",
    "* Use an appropriate cross-validation setup for the training\n",
    "* Estimate the models’ performances on the held back test set:\n",
    "* Compare the models with their hyperparameter settings with two different error/performance measures * Why did you chose the specific error/performance measures? * What do they tell you?\n",
    "    * Which model performs best with which hyperparameter settings and why do you think it does that way?\n",
    "* Explain which model you would use in deployment and why"
   ],
   "metadata": {
    "collapsed": false
   }
  },
  {
   "cell_type": "code",
   "execution_count": null,
   "outputs": [],
   "source": [],
   "metadata": {
    "collapsed": false
   }
  }
 ],
 "metadata": {
  "kernelspec": {
   "display_name": "Python 3",
   "language": "python",
   "name": "python3"
  },
  "language_info": {
   "codemirror_mode": {
    "name": "ipython",
    "version": 2
   },
   "file_extension": ".py",
   "mimetype": "text/x-python",
   "name": "python",
   "nbconvert_exporter": "python",
   "pygments_lexer": "ipython2",
   "version": "2.7.6"
  }
 },
 "nbformat": 4,
 "nbformat_minor": 0
}
