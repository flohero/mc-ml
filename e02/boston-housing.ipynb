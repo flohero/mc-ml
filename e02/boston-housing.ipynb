{
 "cells": [
  {
   "cell_type": "markdown",
   "source": [
    "# Boston House Price Prediction"
   ],
   "metadata": {
    "collapsed": false
   }
  },
  {
   "cell_type": "markdown",
   "source": [
    "## Analyze the data using the same techniques as for the last assignment.\n",
    "Decide for yourself which and how to use the specific commands. Answer\n",
    "the following questions in the report and include figures supporting your\n",
    "answers:"
   ],
   "metadata": {
    "collapsed": false
   },
   "outputs": []
  },
  {
   "cell_type": "markdown",
   "source": [
    "### Which noteworthy trends of features and relations between features as well as features and regression target do you see?"
   ],
   "metadata": {
    "collapsed": false
   },
   "outputs": []
  },
  {
   "cell_type": "markdown",
   "source": [
    "### Which features would you choose to train the regression models, any why?\n"
   ],
   "metadata": {
    "collapsed": false
   },
   "outputs": []
  },
  {
   "cell_type": "markdown",
   "source": [
    "## Build up your ML toolchain for this regression problem similar to the one\n",
    "you did for the classification and again take care of the following points:\n",
    "* Data and Feature Preprocessing (if necessary and applicable)\n",
    "* Train/Test split\n",
    "* Use the following Regression models with different hyperparemter\n",
    "settings (where applicable) and an appropriate cross-validation setup\n",
    "for your training:\n",
    "    * Linear Regression\n",
    "    * Polynomial Regression\n",
    "    * Logistic Regression\n",
    "* Estimate the models’ performances on the test set again with two\n",
    "different error/performance measurements\n",
    "* Explain which model you would use in deployment and why"
   ],
   "metadata": {
    "collapsed": false
   }
  },
  {
   "cell_type": "code",
   "execution_count": null,
   "outputs": [],
   "source": [],
   "metadata": {
    "collapsed": false
   }
  }
 ],
 "metadata": {
  "kernelspec": {
   "display_name": "Python 3",
   "language": "python",
   "name": "python3"
  },
  "language_info": {
   "codemirror_mode": {
    "name": "ipython",
    "version": 2
   },
   "file_extension": ".py",
   "mimetype": "text/x-python",
   "name": "python",
   "nbconvert_exporter": "python",
   "pygments_lexer": "ipython2",
   "version": "2.7.6"
  }
 },
 "nbformat": 4,
 "nbformat_minor": 0
}
